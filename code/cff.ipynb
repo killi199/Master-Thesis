{
 "cells": [
  {
   "cell_type": "code",
   "execution_count": 1,
   "metadata": {},
   "outputs": [
    {
     "data": {
      "text/plain": [
       "<module 'functions' from '/mnt/c/DEV/Masterarbeit/code/functions.py'>"
      ]
     },
     "execution_count": 1,
     "metadata": {},
     "output_type": "execute_result"
    }
   ],
   "source": [
    "import requests\n",
    "import pandas as pd\n",
    "import functions\n",
    "from datetime import datetime\n",
    "from importlib import reload\n",
    "reload(functions)"
   ]
  },
  {
   "cell_type": "code",
   "execution_count": 2,
   "metadata": {},
   "outputs": [
    {
     "data": {
      "text/plain": [
       "'https://github.com/stellar-group/hpx'"
      ]
     },
     "execution_count": 2,
     "metadata": {},
     "output_type": "execute_result"
    }
   ],
   "source": [
    "owner, repo, repo_link = \"stella-group\", \"hpx\", \"https://github.com/stellar-group/hpx\"\n",
    "repo_link"
   ]
  },
  {
   "cell_type": "code",
   "execution_count": 3,
   "metadata": {},
   "outputs": [],
   "source": [
    "pd.set_option('display.max_rows', None)"
   ]
  },
  {
   "cell_type": "markdown",
   "metadata": {},
   "source": [
    "## Git quick stats"
   ]
  },
  {
   "cell_type": "code",
   "execution_count": 4,
   "metadata": {},
   "outputs": [
    {
     "data": {
      "text/html": [
       "<div>\n",
       "<style scoped>\n",
       "    .dataframe tbody tr th:only-of-type {\n",
       "        vertical-align: middle;\n",
       "    }\n",
       "\n",
       "    .dataframe tbody tr th {\n",
       "        vertical-align: top;\n",
       "    }\n",
       "\n",
       "    .dataframe thead th {\n",
       "        text-align: right;\n",
       "    }\n",
       "</style>\n",
       "<table border=\"1\" class=\"dataframe\">\n",
       "  <thead>\n",
       "    <tr style=\"text-align: right;\">\n",
       "      <th></th>\n",
       "      <th>name</th>\n",
       "      <th>email</th>\n",
       "      <th>insertions</th>\n",
       "      <th>deletions</th>\n",
       "      <th>lines_changed</th>\n",
       "      <th>files</th>\n",
       "      <th>commits</th>\n",
       "      <th>first_commit</th>\n",
       "      <th>last_commit</th>\n",
       "    </tr>\n",
       "  </thead>\n",
       "  <tbody>\n",
       "    <tr>\n",
       "      <th>0</th>\n",
       "      <td>Hartmut Kaiser</td>\n",
       "      <td>hartmut.kaiser@gmail.com</td>\n",
       "      <td>1738062</td>\n",
       "      <td>972433</td>\n",
       "      <td>2710495</td>\n",
       "      <td>54449</td>\n",
       "      <td>7350</td>\n",
       "      <td>2012-05-26 08:02:39-07:00</td>\n",
       "      <td>2024-11-20 10:13:13-06:00</td>\n",
       "    </tr>\n",
       "    <tr>\n",
       "      <th>1</th>\n",
       "      <td>Bryce Adelstein-Lelbach</td>\n",
       "      <td>blelbach@cct.lsu.edu</td>\n",
       "      <td>514791</td>\n",
       "      <td>2214309</td>\n",
       "      <td>2729100</td>\n",
       "      <td>12243</td>\n",
       "      <td>2581</td>\n",
       "      <td>2011-02-03 14:08:06+00:00</td>\n",
       "      <td>2016-02-19 14:09:36-06:00</td>\n",
       "    </tr>\n",
       "    <tr>\n",
       "      <th>2</th>\n",
       "      <td>Hartmut Kaiser</td>\n",
       "      <td>hkaiser@cct.lsu.edu</td>\n",
       "      <td>515616</td>\n",
       "      <td>323736</td>\n",
       "      <td>839352</td>\n",
       "      <td>14526</td>\n",
       "      <td>1912</td>\n",
       "      <td>2008-03-24 15:26:55+00:00</td>\n",
       "      <td>2012-07-09 18:21:50+00:00</td>\n",
       "    </tr>\n",
       "    <tr>\n",
       "      <th>3</th>\n",
       "      <td>Mikael Simberg</td>\n",
       "      <td>mikael.simberg@iki.fi</td>\n",
       "      <td>793138</td>\n",
       "      <td>802180</td>\n",
       "      <td>1595318</td>\n",
       "      <td>27488</td>\n",
       "      <td>1727</td>\n",
       "      <td>2017-09-29 17:45:24+02:00</td>\n",
       "      <td>2023-08-31 14:08:43+02:00</td>\n",
       "    </tr>\n",
       "    <tr>\n",
       "      <th>4</th>\n",
       "      <td>Agustin K-ballo BergeK-ballo</td>\n",
       "      <td>k@fusionfenix.com</td>\n",
       "      <td>412024</td>\n",
       "      <td>927156</td>\n",
       "      <td>1339180</td>\n",
       "      <td>15746</td>\n",
       "      <td>1161</td>\n",
       "      <td>2013-06-20 04:49:55-03:00</td>\n",
       "      <td>2021-03-20 16:31:11-03:00</td>\n",
       "    </tr>\n",
       "    <tr>\n",
       "      <th>5</th>\n",
       "      <td>Thomas Heller</td>\n",
       "      <td>thom.heller@gmail.com</td>\n",
       "      <td>246708</td>\n",
       "      <td>122880</td>\n",
       "      <td>369588</td>\n",
       "      <td>5591</td>\n",
       "      <td>1085</td>\n",
       "      <td>2012-07-13 12:13:43+00:00</td>\n",
       "      <td>2019-10-23 16:39:05+02:00</td>\n",
       "    </tr>\n",
       "    <tr>\n",
       "      <th>6</th>\n",
       "      <td>John Biddiscombe</td>\n",
       "      <td>biddisco@cscs.ch</td>\n",
       "      <td>81646</td>\n",
       "      <td>45147</td>\n",
       "      <td>126793</td>\n",
       "      <td>2278</td>\n",
       "      <td>829</td>\n",
       "      <td>2014-02-19 13:52:29+01:00</td>\n",
       "      <td>2021-05-27 17:57:57+02:00</td>\n",
       "    </tr>\n",
       "    <tr>\n",
       "      <th>7</th>\n",
       "      <td>Matthew Anderson</td>\n",
       "      <td>manderson@cct.lsu.edu</td>\n",
       "      <td>522611</td>\n",
       "      <td>40553</td>\n",
       "      <td>563164</td>\n",
       "      <td>2497</td>\n",
       "      <td>688</td>\n",
       "      <td>2009-08-13 20:47:57+00:00</td>\n",
       "      <td>2012-07-06 16:11:52+00:00</td>\n",
       "    </tr>\n",
       "    <tr>\n",
       "      <th>8</th>\n",
       "      <td>aurianerAuriane R</td>\n",
       "      <td>aurianer@cscs.ch</td>\n",
       "      <td>194154</td>\n",
       "      <td>118387</td>\n",
       "      <td>312541</td>\n",
       "      <td>14775</td>\n",
       "      <td>687</td>\n",
       "      <td>2019-05-23 15:20:20+02:00</td>\n",
       "      <td>2021-12-14 16:09:31+01:00</td>\n",
       "    </tr>\n",
       "    <tr>\n",
       "      <th>9</th>\n",
       "      <td>Thomas Heller</td>\n",
       "      <td>thomas.heller@cs.fau.de</td>\n",
       "      <td>60175</td>\n",
       "      <td>46653</td>\n",
       "      <td>106828</td>\n",
       "      <td>2931</td>\n",
       "      <td>540</td>\n",
       "      <td>2012-08-21 11:20:38+02:00</td>\n",
       "      <td>2018-02-06 09:50:30+01:00</td>\n",
       "    </tr>\n",
       "  </tbody>\n",
       "</table>\n",
       "</div>"
      ],
      "text/plain": [
       "                           name                     email  insertions  \\\n",
       "0                Hartmut Kaiser  hartmut.kaiser@gmail.com     1738062   \n",
       "1       Bryce Adelstein-Lelbach      blelbach@cct.lsu.edu      514791   \n",
       "2                Hartmut Kaiser       hkaiser@cct.lsu.edu      515616   \n",
       "3                Mikael Simberg     mikael.simberg@iki.fi      793138   \n",
       "4  Agustin K-ballo BergeK-ballo         k@fusionfenix.com      412024   \n",
       "5                 Thomas Heller     thom.heller@gmail.com      246708   \n",
       "6              John Biddiscombe          biddisco@cscs.ch       81646   \n",
       "7              Matthew Anderson     manderson@cct.lsu.edu      522611   \n",
       "8             aurianerAuriane R          aurianer@cscs.ch      194154   \n",
       "9                 Thomas Heller   thomas.heller@cs.fau.de       60175   \n",
       "\n",
       "   deletions  lines_changed  files  commits               first_commit  \\\n",
       "0     972433        2710495  54449     7350  2012-05-26 08:02:39-07:00   \n",
       "1    2214309        2729100  12243     2581  2011-02-03 14:08:06+00:00   \n",
       "2     323736         839352  14526     1912  2008-03-24 15:26:55+00:00   \n",
       "3     802180        1595318  27488     1727  2017-09-29 17:45:24+02:00   \n",
       "4     927156        1339180  15746     1161  2013-06-20 04:49:55-03:00   \n",
       "5     122880         369588   5591     1085  2012-07-13 12:13:43+00:00   \n",
       "6      45147         126793   2278      829  2014-02-19 13:52:29+01:00   \n",
       "7      40553         563164   2497      688  2009-08-13 20:47:57+00:00   \n",
       "8     118387         312541  14775      687  2019-05-23 15:20:20+02:00   \n",
       "9      46653         106828   2931      540  2012-08-21 11:20:38+02:00   \n",
       "\n",
       "                 last_commit  \n",
       "0  2024-11-20 10:13:13-06:00  \n",
       "1  2016-02-19 14:09:36-06:00  \n",
       "2  2012-07-09 18:21:50+00:00  \n",
       "3  2023-08-31 14:08:43+02:00  \n",
       "4  2021-03-20 16:31:11-03:00  \n",
       "5  2019-10-23 16:39:05+02:00  \n",
       "6  2021-05-27 17:57:57+02:00  \n",
       "7  2012-07-06 16:11:52+00:00  \n",
       "8  2021-12-14 16:09:31+01:00  \n",
       "9  2018-02-06 09:50:30+01:00  "
      ]
     },
     "execution_count": 4,
     "metadata": {},
     "output_type": "execute_result"
    }
   ],
   "source": [
    "functions.clone_git_repo(owner, repo, repo_link)\n",
    "git_contributors_df = await functions.get_git_contributors(owner, repo, datetime.now())\n",
    "git_contributors_df.head(10)"
   ]
  },
  {
   "cell_type": "markdown",
   "metadata": {},
   "source": [
    "## Citation File Format (Authors)"
   ]
  },
  {
   "cell_type": "code",
   "execution_count": 5,
   "metadata": {},
   "outputs": [
    {
     "ename": "UnicodeDecodeError",
     "evalue": "'utf-8' codec can't decode byte 0xed in position 817: invalid continuation byte",
     "output_type": "error",
     "traceback": [
      "\u001b[0;31m---------------------------------------------------------------------------\u001b[0m",
      "\u001b[0;31mUnicodeDecodeError\u001b[0m                        Traceback (most recent call last)",
      "Cell \u001b[0;32mIn[5], line 1\u001b[0m\n\u001b[0;32m----> 1\u001b[0m cff_authors_df, cff_df \u001b[38;5;241m=\u001b[39m \u001b[43mfunctions\u001b[49m\u001b[38;5;241;43m.\u001b[39;49m\u001b[43mget_cff_data\u001b[49m\u001b[43m(\u001b[49m\u001b[43mowner\u001b[49m\u001b[43m,\u001b[49m\u001b[43m \u001b[49m\u001b[43mrepo\u001b[49m\u001b[43m)\u001b[49m\n",
      "File \u001b[0;32m/mnt/c/DEV/Masterarbeit/code/functions.py:305\u001b[0m, in \u001b[0;36mget_cff_data\u001b[0;34m(owner, repo)\u001b[0m\n\u001b[1;32m    303\u001b[0m tree \u001b[38;5;241m=\u001b[39m commit_for_file\u001b[38;5;241m.\u001b[39mtree\n\u001b[1;32m    304\u001b[0m blob \u001b[38;5;241m=\u001b[39m tree[print_file]\n\u001b[0;32m--> 305\u001b[0m cff_string \u001b[38;5;241m=\u001b[39m \u001b[43mblob\u001b[49m\u001b[38;5;241;43m.\u001b[39;49m\u001b[43mdata_stream\u001b[49m\u001b[38;5;241;43m.\u001b[39;49m\u001b[43mread\u001b[49m\u001b[43m(\u001b[49m\u001b[43m)\u001b[49m\u001b[38;5;241;43m.\u001b[39;49m\u001b[43mdecode\u001b[49m\u001b[43m(\u001b[49m\u001b[43m)\u001b[49m\n\u001b[1;32m    306\u001b[0m cff_yaml_data \u001b[38;5;241m=\u001b[39m load_cff_data(cff_string)\n\u001b[1;32m    307\u001b[0m stderr \u001b[38;5;241m=\u001b[39m sys\u001b[38;5;241m.\u001b[39mstderr\n",
      "\u001b[0;31mUnicodeDecodeError\u001b[0m: 'utf-8' codec can't decode byte 0xed in position 817: invalid continuation byte"
     ]
    }
   ],
   "source": [
    "cff_authors_df, cff_df = functions.get_cff_data(owner, repo)"
   ]
  },
  {
   "cell_type": "code",
   "execution_count": null,
   "metadata": {},
   "outputs": [
    {
     "name": "stdout",
     "output_type": "stream",
     "text": [
      "2023-06-29 17:31:14-06:00\n"
     ]
    },
    {
     "data": {
      "text/html": [
       "<div>\n",
       "<style scoped>\n",
       "    .dataframe tbody tr th:only-of-type {\n",
       "        vertical-align: middle;\n",
       "    }\n",
       "\n",
       "    .dataframe tbody tr th {\n",
       "        vertical-align: top;\n",
       "    }\n",
       "\n",
       "    .dataframe thead th {\n",
       "        text-align: right;\n",
       "    }\n",
       "</style>\n",
       "<table border=\"1\" class=\"dataframe\">\n",
       "  <thead>\n",
       "    <tr style=\"text-align: right;\">\n",
       "      <th></th>\n",
       "    </tr>\n",
       "  </thead>\n",
       "  <tbody>\n",
       "  </tbody>\n",
       "</table>\n",
       "</div>"
      ],
      "text/plain": [
       "Empty DataFrame\n",
       "Columns: []\n",
       "Index: []"
      ]
     },
     "execution_count": 13,
     "metadata": {},
     "output_type": "execute_result"
    }
   ],
   "source": [
    "print(cff_authors_df[0][1])\n",
    "cff_authors_df[0][0]"
   ]
  },
  {
   "cell_type": "code",
   "execution_count": null,
   "metadata": {},
   "outputs": [
    {
     "data": {
      "text/html": [
       "<div>\n",
       "<style scoped>\n",
       "    .dataframe tbody tr th:only-of-type {\n",
       "        vertical-align: middle;\n",
       "    }\n",
       "\n",
       "    .dataframe tbody tr th {\n",
       "        vertical-align: top;\n",
       "    }\n",
       "\n",
       "    .dataframe thead th {\n",
       "        text-align: right;\n",
       "    }\n",
       "</style>\n",
       "<table border=\"1\" class=\"dataframe\">\n",
       "  <thead>\n",
       "    <tr style=\"text-align: right;\">\n",
       "      <th></th>\n",
       "      <th>cff_valid</th>\n",
       "      <th>type</th>\n",
       "      <th>date-released</th>\n",
       "      <th>doi</th>\n",
       "      <th>identifier-doi</th>\n",
       "      <th>committed_datetime</th>\n",
       "      <th>authored_datetime</th>\n",
       "    </tr>\n",
       "  </thead>\n",
       "  <tbody>\n",
       "    <tr>\n",
       "      <th>0</th>\n",
       "      <td>True</td>\n",
       "      <td>software</td>\n",
       "      <td>None</td>\n",
       "      <td>None</td>\n",
       "      <td>None</td>\n",
       "      <td>2023-06-29 17:31:14-06:00</td>\n",
       "      <td>2023-06-29 17:31:14-06:00</td>\n",
       "    </tr>\n",
       "  </tbody>\n",
       "</table>\n",
       "</div>"
      ],
      "text/plain": [
       "   cff_valid      type date-released   doi identifier-doi  \\\n",
       "0       True  software          None  None           None   \n",
       "\n",
       "          committed_datetime          authored_datetime  \n",
       "0  2023-06-29 17:31:14-06:00  2023-06-29 17:31:14-06:00  "
      ]
     },
     "execution_count": 14,
     "metadata": {},
     "output_type": "execute_result"
    }
   ],
   "source": [
    "cff_df"
   ]
  },
  {
   "cell_type": "code",
   "execution_count": null,
   "metadata": {},
   "outputs": [
    {
     "data": {
      "text/html": [
       "<div>\n",
       "<style scoped>\n",
       "    .dataframe tbody tr th:only-of-type {\n",
       "        vertical-align: middle;\n",
       "    }\n",
       "\n",
       "    .dataframe tbody tr th {\n",
       "        vertical-align: top;\n",
       "    }\n",
       "\n",
       "    .dataframe thead th {\n",
       "        text-align: right;\n",
       "    }\n",
       "</style>\n",
       "<table border=\"1\" class=\"dataframe\">\n",
       "  <thead>\n",
       "    <tr style=\"text-align: right;\">\n",
       "      <th></th>\n",
       "      <th>rank</th>\n",
       "      <th>insertions</th>\n",
       "      <th>deletions</th>\n",
       "      <th>lines_changed</th>\n",
       "      <th>files</th>\n",
       "      <th>commits</th>\n",
       "      <th>first_commit</th>\n",
       "      <th>last_commit</th>\n",
       "      <th>score</th>\n",
       "    </tr>\n",
       "  </thead>\n",
       "  <tbody>\n",
       "  </tbody>\n",
       "</table>\n",
       "</div>"
      ],
      "text/plain": [
       "Empty DataFrame\n",
       "Columns: [rank, insertions, deletions, lines_changed, files, commits, first_commit, last_commit, score]\n",
       "Index: []"
      ]
     },
     "execution_count": 15,
     "metadata": {},
     "output_type": "execute_result"
    }
   ],
   "source": [
    "result = functions.matching(cff_authors_df[0][0], git_contributors_df)\n",
    "result"
   ]
  },
  {
   "cell_type": "markdown",
   "metadata": {},
   "source": [
    "## Citation File Format (Preferred citation Authors)"
   ]
  },
  {
   "cell_type": "code",
   "execution_count": null,
   "metadata": {},
   "outputs": [],
   "source": [
    "cff_authors_df, cff_df = functions.get_cff_preferred_citation_data(owner, repo)"
   ]
  },
  {
   "cell_type": "code",
   "execution_count": null,
   "metadata": {},
   "outputs": [
    {
     "name": "stdout",
     "output_type": "stream",
     "text": [
      "2023-06-29 17:31:14-06:00\n"
     ]
    },
    {
     "data": {
      "text/html": [
       "<div>\n",
       "<style scoped>\n",
       "    .dataframe tbody tr th:only-of-type {\n",
       "        vertical-align: middle;\n",
       "    }\n",
       "\n",
       "    .dataframe tbody tr th {\n",
       "        vertical-align: top;\n",
       "    }\n",
       "\n",
       "    .dataframe thead th {\n",
       "        text-align: right;\n",
       "    }\n",
       "</style>\n",
       "<table border=\"1\" class=\"dataframe\">\n",
       "  <thead>\n",
       "    <tr style=\"text-align: right;\">\n",
       "      <th></th>\n",
       "      <th>name</th>\n",
       "      <th>email</th>\n",
       "      <th>ORCID</th>\n",
       "    </tr>\n",
       "  </thead>\n",
       "  <tbody>\n",
       "    <tr>\n",
       "      <th>0</th>\n",
       "      <td>John D. Hunter</td>\n",
       "      <td>None</td>\n",
       "      <td>None</td>\n",
       "    </tr>\n",
       "  </tbody>\n",
       "</table>\n",
       "</div>"
      ],
      "text/plain": [
       "             name email ORCID\n",
       "0  John D. Hunter  None  None"
      ]
     },
     "execution_count": 17,
     "metadata": {},
     "output_type": "execute_result"
    }
   ],
   "source": [
    "print(cff_authors_df[0][1])\n",
    "cff_authors_df[0][0]"
   ]
  },
  {
   "cell_type": "code",
   "execution_count": null,
   "metadata": {},
   "outputs": [
    {
     "data": {
      "text/html": [
       "<div>\n",
       "<style scoped>\n",
       "    .dataframe tbody tr th:only-of-type {\n",
       "        vertical-align: middle;\n",
       "    }\n",
       "\n",
       "    .dataframe tbody tr th {\n",
       "        vertical-align: top;\n",
       "    }\n",
       "\n",
       "    .dataframe thead th {\n",
       "        text-align: right;\n",
       "    }\n",
       "</style>\n",
       "<table border=\"1\" class=\"dataframe\">\n",
       "  <thead>\n",
       "    <tr style=\"text-align: right;\">\n",
       "      <th></th>\n",
       "      <th>cff_valid</th>\n",
       "      <th>type</th>\n",
       "      <th>date-released</th>\n",
       "      <th>date-published</th>\n",
       "      <th>year</th>\n",
       "      <th>month</th>\n",
       "      <th>doi</th>\n",
       "      <th>collection-doi</th>\n",
       "      <th>identifier-doi</th>\n",
       "      <th>committed_datetime</th>\n",
       "      <th>authored_datetime</th>\n",
       "    </tr>\n",
       "  </thead>\n",
       "  <tbody>\n",
       "    <tr>\n",
       "      <th>0</th>\n",
       "      <td>True</td>\n",
       "      <td>article</td>\n",
       "      <td>None</td>\n",
       "      <td>2007-06-18</td>\n",
       "      <td>2007</td>\n",
       "      <td>None</td>\n",
       "      <td>10.1109/MCSE.2007.55</td>\n",
       "      <td>None</td>\n",
       "      <td>None</td>\n",
       "      <td>2023-06-29 17:31:14-06:00</td>\n",
       "      <td>2023-06-29 17:31:14-06:00</td>\n",
       "    </tr>\n",
       "  </tbody>\n",
       "</table>\n",
       "</div>"
      ],
      "text/plain": [
       "   cff_valid     type date-released date-published  year month  \\\n",
       "0       True  article          None     2007-06-18  2007  None   \n",
       "\n",
       "                    doi collection-doi identifier-doi  \\\n",
       "0  10.1109/MCSE.2007.55           None           None   \n",
       "\n",
       "          committed_datetime          authored_datetime  \n",
       "0  2023-06-29 17:31:14-06:00  2023-06-29 17:31:14-06:00  "
      ]
     },
     "execution_count": 18,
     "metadata": {},
     "output_type": "execute_result"
    }
   ],
   "source": [
    "cff_df"
   ]
  },
  {
   "cell_type": "code",
   "execution_count": null,
   "metadata": {},
   "outputs": [
    {
     "data": {
      "text/html": [
       "<div>\n",
       "<style scoped>\n",
       "    .dataframe tbody tr th:only-of-type {\n",
       "        vertical-align: middle;\n",
       "    }\n",
       "\n",
       "    .dataframe tbody tr th {\n",
       "        vertical-align: top;\n",
       "    }\n",
       "\n",
       "    .dataframe thead th {\n",
       "        text-align: right;\n",
       "    }\n",
       "</style>\n",
       "<table border=\"1\" class=\"dataframe\">\n",
       "  <thead>\n",
       "    <tr style=\"text-align: right;\">\n",
       "      <th></th>\n",
       "      <th>name</th>\n",
       "      <th>email</th>\n",
       "      <th>ORCID</th>\n",
       "      <th>rank</th>\n",
       "      <th>insertions</th>\n",
       "      <th>deletions</th>\n",
       "      <th>lines_changed</th>\n",
       "      <th>files</th>\n",
       "      <th>commits</th>\n",
       "      <th>first_commit</th>\n",
       "      <th>last_commit</th>\n",
       "      <th>score</th>\n",
       "    </tr>\n",
       "  </thead>\n",
       "  <tbody>\n",
       "    <tr>\n",
       "      <th>0</th>\n",
       "      <td>John D. Hunter</td>\n",
       "      <td>None</td>\n",
       "      <td>None</td>\n",
       "      <td>6</td>\n",
       "      <td>356071</td>\n",
       "      <td>224386</td>\n",
       "      <td>580457</td>\n",
       "      <td>5956</td>\n",
       "      <td>1475</td>\n",
       "      <td>2005-04-11 15:17:26+00:00</td>\n",
       "      <td>2012-06-30 14:02:02-05:00</td>\n",
       "      <td>0.5</td>\n",
       "    </tr>\n",
       "  </tbody>\n",
       "</table>\n",
       "</div>"
      ],
      "text/plain": [
       "             name email ORCID  rank  insertions  deletions  lines_changed  \\\n",
       "0  John D. Hunter  None  None     6      356071     224386         580457   \n",
       "\n",
       "   files  commits              first_commit               last_commit  score  \n",
       "0   5956     1475 2005-04-11 15:17:26+00:00 2012-06-30 14:02:02-05:00    0.5  "
      ]
     },
     "execution_count": 19,
     "metadata": {},
     "output_type": "execute_result"
    }
   ],
   "source": [
    "result = functions.matching(cff_authors_df[0][0], git_contributors_df)\n",
    "result"
   ]
  }
 ],
 "metadata": {
  "kernelspec": {
   "display_name": "Python 3",
   "language": "python",
   "name": "python3"
  },
  "language_info": {
   "codemirror_mode": {
    "name": "ipython",
    "version": 3
   },
   "file_extension": ".py",
   "mimetype": "text/x-python",
   "name": "python",
   "nbconvert_exporter": "python",
   "pygments_lexer": "ipython3",
   "version": "3.10.12"
  }
 },
 "nbformat": 4,
 "nbformat_minor": 2
}
