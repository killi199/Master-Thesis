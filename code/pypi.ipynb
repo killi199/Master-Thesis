{
 "cells": [
  {
   "cell_type": "code",
   "execution_count": 1,
   "metadata": {},
   "outputs": [
    {
     "data": {
      "text/plain": [
       "<module 'functions' from '/mnt/c/DEV/Masterarbeit/code/functions.py'>"
      ]
     },
     "execution_count": 1,
     "metadata": {},
     "output_type": "execute_result"
    }
   ],
   "source": [
    "import requests\n",
    "import pandas as pd\n",
    "import functions\n",
    "from importlib import reload\n",
    "reload(functions)"
   ]
  },
  {
   "cell_type": "code",
   "execution_count": 2,
   "metadata": {},
   "outputs": [],
   "source": [
    "package_name = \"matplotlib\"\n",
    "response = requests.get(f\"https://pypi.org/pypi/{package_name}/json\")\n",
    "pypi_data = response.json()"
   ]
  },
  {
   "cell_type": "code",
   "execution_count": 3,
   "metadata": {},
   "outputs": [
    {
     "data": {
      "text/plain": [
       "'https://github.com/matplotlib/matplotlib'"
      ]
     },
     "execution_count": 3,
     "metadata": {},
     "output_type": "execute_result"
    }
   ],
   "source": [
    "owner, repo, repo_link = functions.get_pypi_repo(pypi_data)\n",
    "repo_link"
   ]
  },
  {
   "cell_type": "code",
   "execution_count": 4,
   "metadata": {},
   "outputs": [],
   "source": [
    "pd.set_option('display.max_rows', None)"
   ]
  },
  {
   "cell_type": "markdown",
   "metadata": {},
   "source": [
    "## Git quick stats"
   ]
  },
  {
   "cell_type": "code",
   "execution_count": 5,
   "metadata": {},
   "outputs": [
    {
     "data": {
      "text/html": [
       "<div>\n",
       "<style scoped>\n",
       "    .dataframe tbody tr th:only-of-type {\n",
       "        vertical-align: middle;\n",
       "    }\n",
       "\n",
       "    .dataframe tbody tr th {\n",
       "        vertical-align: top;\n",
       "    }\n",
       "\n",
       "    .dataframe thead th {\n",
       "        text-align: right;\n",
       "    }\n",
       "</style>\n",
       "<table border=\"1\" class=\"dataframe\">\n",
       "  <thead>\n",
       "    <tr style=\"text-align: right;\">\n",
       "      <th></th>\n",
       "      <th>name</th>\n",
       "      <th>email</th>\n",
       "      <th>insertions</th>\n",
       "      <th>deletions</th>\n",
       "      <th>lines_changed</th>\n",
       "      <th>files</th>\n",
       "      <th>commits</th>\n",
       "      <th>first_commit</th>\n",
       "      <th>last_commit</th>\n",
       "    </tr>\n",
       "  </thead>\n",
       "  <tbody>\n",
       "    <tr>\n",
       "      <th>0</th>\n",
       "      <td>Antony Lee</td>\n",
       "      <td>anntzer.lee@gmail.com</td>\n",
       "      <td>114059</td>\n",
       "      <td>209576</td>\n",
       "      <td>323635</td>\n",
       "      <td>12443</td>\n",
       "      <td>3842</td>\n",
       "      <td>2013-01-04 13:05:35+01:00</td>\n",
       "      <td>2024-08-21 09:59:53+02:00</td>\n",
       "    </tr>\n",
       "    <tr>\n",
       "      <th>1</th>\n",
       "      <td>Thomas A CaswellDr. Thomas A Caswell</td>\n",
       "      <td>tcaswell@gmail.com</td>\n",
       "      <td>106781</td>\n",
       "      <td>92853</td>\n",
       "      <td>199634</td>\n",
       "      <td>7317</td>\n",
       "      <td>3539</td>\n",
       "      <td>2012-08-08 15:08:15-05:00</td>\n",
       "      <td>2024-08-16 16:38:12-04:00</td>\n",
       "    </tr>\n",
       "    <tr>\n",
       "      <th>2</th>\n",
       "      <td>Michael Droettboom</td>\n",
       "      <td>mdboom@gmail.com</td>\n",
       "      <td>208736</td>\n",
       "      <td>190271</td>\n",
       "      <td>399007</td>\n",
       "      <td>7893</td>\n",
       "      <td>3021</td>\n",
       "      <td>2007-07-03 13:02:53+00:00</td>\n",
       "      <td>2018-11-26 10:32:24-05:00</td>\n",
       "    </tr>\n",
       "    <tr>\n",
       "      <th>3</th>\n",
       "      <td>Elliott Sales de Andrade</td>\n",
       "      <td>quantum.analyst@gmail.com</td>\n",
       "      <td>106530</td>\n",
       "      <td>78785</td>\n",
       "      <td>185315</td>\n",
       "      <td>6804</td>\n",
       "      <td>2615</td>\n",
       "      <td>2014-07-06 16:50:50-04:00</td>\n",
       "      <td>2024-08-22 21:29:39-04:00</td>\n",
       "    </tr>\n",
       "    <tr>\n",
       "      <th>4</th>\n",
       "      <td>Tim Hoffmann</td>\n",
       "      <td>2836374+timhoffm@users.noreply.github.com</td>\n",
       "      <td>57321</td>\n",
       "      <td>46093</td>\n",
       "      <td>103414</td>\n",
       "      <td>5416</td>\n",
       "      <td>1600</td>\n",
       "      <td>2017-11-13 01:01:44+01:00</td>\n",
       "      <td>2024-08-15 16:45:02+02:00</td>\n",
       "    </tr>\n",
       "    <tr>\n",
       "      <th>5</th>\n",
       "      <td>John Hunter</td>\n",
       "      <td>jdh2358@gmail.com</td>\n",
       "      <td>356071</td>\n",
       "      <td>224386</td>\n",
       "      <td>580457</td>\n",
       "      <td>5956</td>\n",
       "      <td>1475</td>\n",
       "      <td>2005-04-11 15:17:26+00:00</td>\n",
       "      <td>2012-06-30 14:02:02-05:00</td>\n",
       "    </tr>\n",
       "    <tr>\n",
       "      <th>6</th>\n",
       "      <td>Eric Firing</td>\n",
       "      <td>efiring@hawaii.edu</td>\n",
       "      <td>56323</td>\n",
       "      <td>87645</td>\n",
       "      <td>143968</td>\n",
       "      <td>2842</td>\n",
       "      <td>1297</td>\n",
       "      <td>2005-09-25 23:03:37+00:00</td>\n",
       "      <td>2023-06-05 15:00:48-10:00</td>\n",
       "    </tr>\n",
       "    <tr>\n",
       "      <th>7</th>\n",
       "      <td>Jody Klymak</td>\n",
       "      <td>jklymak@gmail.com</td>\n",
       "      <td>49344</td>\n",
       "      <td>25237</td>\n",
       "      <td>74581</td>\n",
       "      <td>3532</td>\n",
       "      <td>1081</td>\n",
       "      <td>2015-06-06 20:45:54-07:00</td>\n",
       "      <td>2024-07-17 07:15:46-07:00</td>\n",
       "    </tr>\n",
       "    <tr>\n",
       "      <th>8</th>\n",
       "      <td>David Stansby</td>\n",
       "      <td>dstansby@gmail.com</td>\n",
       "      <td>23832</td>\n",
       "      <td>23061</td>\n",
       "      <td>46893</td>\n",
       "      <td>2812</td>\n",
       "      <td>1039</td>\n",
       "      <td>2016-05-05 12:12:33+01:00</td>\n",
       "      <td>2024-04-07 15:16:58+02:00</td>\n",
       "    </tr>\n",
       "    <tr>\n",
       "      <th>9</th>\n",
       "      <td>Jens Hedegaard Nielsen</td>\n",
       "      <td>jenshnielsen@gmail.com</td>\n",
       "      <td>8627</td>\n",
       "      <td>8531</td>\n",
       "      <td>17158</td>\n",
       "      <td>856</td>\n",
       "      <td>575</td>\n",
       "      <td>2011-06-24 14:42:31+02:00</td>\n",
       "      <td>2018-04-23 08:33:51+02:00</td>\n",
       "    </tr>\n",
       "  </tbody>\n",
       "</table>\n",
       "</div>"
      ],
      "text/plain": [
       "                                   name  \\\n",
       "0                            Antony Lee   \n",
       "1  Thomas A CaswellDr. Thomas A Caswell   \n",
       "2                    Michael Droettboom   \n",
       "3              Elliott Sales de Andrade   \n",
       "4                          Tim Hoffmann   \n",
       "5                           John Hunter   \n",
       "6                           Eric Firing   \n",
       "7                           Jody Klymak   \n",
       "8                         David Stansby   \n",
       "9                Jens Hedegaard Nielsen   \n",
       "\n",
       "                                       email  insertions  deletions  \\\n",
       "0                      anntzer.lee@gmail.com      114059     209576   \n",
       "1                         tcaswell@gmail.com      106781      92853   \n",
       "2                           mdboom@gmail.com      208736     190271   \n",
       "3                  quantum.analyst@gmail.com      106530      78785   \n",
       "4  2836374+timhoffm@users.noreply.github.com       57321      46093   \n",
       "5                          jdh2358@gmail.com      356071     224386   \n",
       "6                         efiring@hawaii.edu       56323      87645   \n",
       "7                          jklymak@gmail.com       49344      25237   \n",
       "8                         dstansby@gmail.com       23832      23061   \n",
       "9                     jenshnielsen@gmail.com        8627       8531   \n",
       "\n",
       "   lines_changed  files  commits               first_commit  \\\n",
       "0         323635  12443     3842  2013-01-04 13:05:35+01:00   \n",
       "1         199634   7317     3539  2012-08-08 15:08:15-05:00   \n",
       "2         399007   7893     3021  2007-07-03 13:02:53+00:00   \n",
       "3         185315   6804     2615  2014-07-06 16:50:50-04:00   \n",
       "4         103414   5416     1600  2017-11-13 01:01:44+01:00   \n",
       "5         580457   5956     1475  2005-04-11 15:17:26+00:00   \n",
       "6         143968   2842     1297  2005-09-25 23:03:37+00:00   \n",
       "7          74581   3532     1081  2015-06-06 20:45:54-07:00   \n",
       "8          46893   2812     1039  2016-05-05 12:12:33+01:00   \n",
       "9          17158    856      575  2011-06-24 14:42:31+02:00   \n",
       "\n",
       "                 last_commit  \n",
       "0  2024-08-21 09:59:53+02:00  \n",
       "1  2024-08-16 16:38:12-04:00  \n",
       "2  2018-11-26 10:32:24-05:00  \n",
       "3  2024-08-22 21:29:39-04:00  \n",
       "4  2024-08-15 16:45:02+02:00  \n",
       "5  2012-06-30 14:02:02-05:00  \n",
       "6  2023-06-05 15:00:48-10:00  \n",
       "7  2024-07-17 07:15:46-07:00  \n",
       "8  2024-04-07 15:16:58+02:00  \n",
       "9  2018-04-23 08:33:51+02:00  "
      ]
     },
     "execution_count": 5,
     "metadata": {},
     "output_type": "execute_result"
    }
   ],
   "source": [
    "git_contributors_df = await functions.get_git_contributors(owner, repo, repo_link, package_name)\n",
    "git_contributors_df.head(10)"
   ]
  },
  {
   "cell_type": "markdown",
   "metadata": {},
   "source": [
    "## PyPi Owner (verified)"
   ]
  },
  {
   "cell_type": "markdown",
   "metadata": {},
   "source": [
    "PyPi Owner sind in PyPi immer Organisationen, deswegen brauche ich diese nicht zu verarbeiten."
   ]
  },
  {
   "cell_type": "markdown",
   "metadata": {},
   "source": [
    "## PyPi Maintainers (verified)"
   ]
  },
  {
   "cell_type": "code",
   "execution_count": 6,
   "metadata": {},
   "outputs": [
    {
     "data": {
      "text/html": [
       "<div>\n",
       "<style scoped>\n",
       "    .dataframe tbody tr th:only-of-type {\n",
       "        vertical-align: middle;\n",
       "    }\n",
       "\n",
       "    .dataframe tbody tr th {\n",
       "        vertical-align: top;\n",
       "    }\n",
       "\n",
       "    .dataframe thead th {\n",
       "        text-align: right;\n",
       "    }\n",
       "</style>\n",
       "<table border=\"1\" class=\"dataframe\">\n",
       "  <thead>\n",
       "    <tr style=\"text-align: right;\">\n",
       "      <th></th>\n",
       "      <th>login</th>\n",
       "      <th>name</th>\n",
       "    </tr>\n",
       "  </thead>\n",
       "  <tbody>\n",
       "    <tr>\n",
       "      <th>0</th>\n",
       "      <td>ivanov</td>\n",
       "      <td>None</td>\n",
       "    </tr>\n",
       "    <tr>\n",
       "      <th>1</th>\n",
       "      <td>matthew.brett</td>\n",
       "      <td>Matthew Brett</td>\n",
       "    </tr>\n",
       "    <tr>\n",
       "      <th>2</th>\n",
       "      <td>mdboom2</td>\n",
       "      <td>None</td>\n",
       "    </tr>\n",
       "  </tbody>\n",
       "</table>\n",
       "</div>"
      ],
      "text/plain": [
       "           login           name\n",
       "0         ivanov           None\n",
       "1  matthew.brett  Matthew Brett\n",
       "2        mdboom2           None"
      ]
     },
     "execution_count": 6,
     "metadata": {},
     "output_type": "execute_result"
    }
   ],
   "source": [
    "pypi_maintainers_df = await functions.get_pypi_maintainers(package_name)\n",
    "pypi_maintainers_df"
   ]
  },
  {
   "cell_type": "markdown",
   "metadata": {},
   "source": [
    "Kann keine logins matchen, da ich die aus git nicht bekomme. Aus dem Grund matche ich jetzt logins mit emails."
   ]
  },
  {
   "cell_type": "code",
   "execution_count": 7,
   "metadata": {},
   "outputs": [
    {
     "data": {
      "text/html": [
       "<div>\n",
       "<style scoped>\n",
       "    .dataframe tbody tr th:only-of-type {\n",
       "        vertical-align: middle;\n",
       "    }\n",
       "\n",
       "    .dataframe tbody tr th {\n",
       "        vertical-align: top;\n",
       "    }\n",
       "\n",
       "    .dataframe thead th {\n",
       "        text-align: right;\n",
       "    }\n",
       "</style>\n",
       "<table border=\"1\" class=\"dataframe\">\n",
       "  <thead>\n",
       "    <tr style=\"text-align: right;\">\n",
       "      <th></th>\n",
       "      <th>login</th>\n",
       "      <th>name</th>\n",
       "      <th>rank</th>\n",
       "      <th>insertions</th>\n",
       "      <th>deletions</th>\n",
       "      <th>lines_changed</th>\n",
       "      <th>files</th>\n",
       "      <th>commits</th>\n",
       "      <th>first_commit</th>\n",
       "      <th>last_commit</th>\n",
       "      <th>score</th>\n",
       "    </tr>\n",
       "  </thead>\n",
       "  <tbody>\n",
       "    <tr>\n",
       "      <th>2</th>\n",
       "      <td>mdboom2</td>\n",
       "      <td>None</td>\n",
       "      <td>3</td>\n",
       "      <td>208736</td>\n",
       "      <td>190271</td>\n",
       "      <td>399007</td>\n",
       "      <td>7893</td>\n",
       "      <td>3021</td>\n",
       "      <td>2007-07-03 13:02:53+00:00</td>\n",
       "      <td>2018-11-26 10:32:24-05:00</td>\n",
       "      <td>0.5</td>\n",
       "    </tr>\n",
       "    <tr>\n",
       "      <th>0</th>\n",
       "      <td>ivanov</td>\n",
       "      <td>None</td>\n",
       "      <td>36</td>\n",
       "      <td>5185</td>\n",
       "      <td>2869</td>\n",
       "      <td>8054</td>\n",
       "      <td>375</td>\n",
       "      <td>96</td>\n",
       "      <td>2011-01-12 00:49:36+00:00</td>\n",
       "      <td>2019-11-06 08:22:12-08:00</td>\n",
       "      <td>0.5</td>\n",
       "    </tr>\n",
       "    <tr>\n",
       "      <th>1</th>\n",
       "      <td>matthew.brett</td>\n",
       "      <td>Matthew Brett</td>\n",
       "      <td>53</td>\n",
       "      <td>3191</td>\n",
       "      <td>2264</td>\n",
       "      <td>5455</td>\n",
       "      <td>536</td>\n",
       "      <td>56</td>\n",
       "      <td>2013-08-21 19:51:54-07:00</td>\n",
       "      <td>2017-10-24 13:05:13+01:00</td>\n",
       "      <td>1.0</td>\n",
       "    </tr>\n",
       "  </tbody>\n",
       "</table>\n",
       "</div>"
      ],
      "text/plain": [
       "           login           name  rank  insertions  deletions  lines_changed  \\\n",
       "2        mdboom2           None     3      208736     190271         399007   \n",
       "0         ivanov           None    36        5185       2869           8054   \n",
       "1  matthew.brett  Matthew Brett    53        3191       2264           5455   \n",
       "\n",
       "   files  commits               first_commit                last_commit  score  \n",
       "2   7893     3021  2007-07-03 13:02:53+00:00  2018-11-26 10:32:24-05:00    0.5  \n",
       "0    375       96  2011-01-12 00:49:36+00:00  2019-11-06 08:22:12-08:00    0.5  \n",
       "1    536       56  2013-08-21 19:51:54-07:00  2017-10-24 13:05:13+01:00    1.0  "
      ]
     },
     "execution_count": 7,
     "metadata": {},
     "output_type": "execute_result"
    }
   ],
   "source": [
    "result = functions.matching(pypi_maintainers_df, git_contributors_df)\n",
    "result"
   ]
  },
  {
   "cell_type": "markdown",
   "metadata": {},
   "source": [
    "## Python Authors (not verified)"
   ]
  },
  {
   "cell_type": "markdown",
   "metadata": {},
   "source": [
    "Assuming Author seperation by ,"
   ]
  },
  {
   "cell_type": "code",
   "execution_count": 8,
   "metadata": {},
   "outputs": [
    {
     "data": {
      "text/html": [
       "<div>\n",
       "<style scoped>\n",
       "    .dataframe tbody tr th:only-of-type {\n",
       "        vertical-align: middle;\n",
       "    }\n",
       "\n",
       "    .dataframe tbody tr th {\n",
       "        vertical-align: top;\n",
       "    }\n",
       "\n",
       "    .dataframe thead th {\n",
       "        text-align: right;\n",
       "    }\n",
       "</style>\n",
       "<table border=\"1\" class=\"dataframe\">\n",
       "  <thead>\n",
       "    <tr style=\"text-align: right;\">\n",
       "      <th></th>\n",
       "      <th>name</th>\n",
       "      <th>email</th>\n",
       "    </tr>\n",
       "  </thead>\n",
       "  <tbody>\n",
       "    <tr>\n",
       "      <th>0</th>\n",
       "      <td>John D. Hunter</td>\n",
       "      <td>Unknown &lt;matplotlib-users@python.org&gt;</td>\n",
       "    </tr>\n",
       "    <tr>\n",
       "      <th>1</th>\n",
       "      <td>Michael Droettboom</td>\n",
       "      <td>None</td>\n",
       "    </tr>\n",
       "  </tbody>\n",
       "</table>\n",
       "</div>"
      ],
      "text/plain": [
       "                 name                                  email\n",
       "0      John D. Hunter  Unknown <matplotlib-users@python.org>\n",
       "1  Michael Droettboom                                   None"
      ]
     },
     "execution_count": 8,
     "metadata": {},
     "output_type": "execute_result"
    }
   ],
   "source": [
    "python_authors_df = functions.get_python_authors(pypi_data)\n",
    "python_authors_df"
   ]
  },
  {
   "cell_type": "code",
   "execution_count": 9,
   "metadata": {},
   "outputs": [
    {
     "data": {
      "text/html": [
       "<div>\n",
       "<style scoped>\n",
       "    .dataframe tbody tr th:only-of-type {\n",
       "        vertical-align: middle;\n",
       "    }\n",
       "\n",
       "    .dataframe tbody tr th {\n",
       "        vertical-align: top;\n",
       "    }\n",
       "\n",
       "    .dataframe thead th {\n",
       "        text-align: right;\n",
       "    }\n",
       "</style>\n",
       "<table border=\"1\" class=\"dataframe\">\n",
       "  <thead>\n",
       "    <tr style=\"text-align: right;\">\n",
       "      <th></th>\n",
       "      <th>name</th>\n",
       "      <th>email</th>\n",
       "      <th>rank</th>\n",
       "      <th>insertions</th>\n",
       "      <th>deletions</th>\n",
       "      <th>lines_changed</th>\n",
       "      <th>files</th>\n",
       "      <th>commits</th>\n",
       "      <th>first_commit</th>\n",
       "      <th>last_commit</th>\n",
       "      <th>score</th>\n",
       "    </tr>\n",
       "  </thead>\n",
       "  <tbody>\n",
       "    <tr>\n",
       "      <th>1</th>\n",
       "      <td>Michael Droettboom</td>\n",
       "      <td>None</td>\n",
       "      <td>3</td>\n",
       "      <td>208736</td>\n",
       "      <td>190271</td>\n",
       "      <td>399007</td>\n",
       "      <td>7893</td>\n",
       "      <td>3021</td>\n",
       "      <td>2007-07-03 13:02:53+00:00</td>\n",
       "      <td>2018-11-26 10:32:24-05:00</td>\n",
       "      <td>0.5</td>\n",
       "    </tr>\n",
       "    <tr>\n",
       "      <th>0</th>\n",
       "      <td>John D. Hunter</td>\n",
       "      <td>Unknown &lt;matplotlib-users@python.org&gt;</td>\n",
       "      <td>6</td>\n",
       "      <td>356071</td>\n",
       "      <td>224386</td>\n",
       "      <td>580457</td>\n",
       "      <td>5956</td>\n",
       "      <td>1475</td>\n",
       "      <td>2005-04-11 15:17:26+00:00</td>\n",
       "      <td>2012-06-30 14:02:02-05:00</td>\n",
       "      <td>0.5</td>\n",
       "    </tr>\n",
       "  </tbody>\n",
       "</table>\n",
       "</div>"
      ],
      "text/plain": [
       "                 name                                  email  rank  \\\n",
       "1  Michael Droettboom                                   None     3   \n",
       "0      John D. Hunter  Unknown <matplotlib-users@python.org>     6   \n",
       "\n",
       "   insertions  deletions  lines_changed  files  commits  \\\n",
       "1      208736     190271         399007   7893     3021   \n",
       "0      356071     224386         580457   5956     1475   \n",
       "\n",
       "               first_commit               last_commit  score  \n",
       "1 2007-07-03 13:02:53+00:00 2018-11-26 10:32:24-05:00    0.5  \n",
       "0 2005-04-11 15:17:26+00:00 2012-06-30 14:02:02-05:00    0.5  "
      ]
     },
     "execution_count": 9,
     "metadata": {},
     "output_type": "execute_result"
    }
   ],
   "source": [
    "result = functions.matching(python_authors_df, git_contributors_df)\n",
    "result"
   ]
  },
  {
   "cell_type": "markdown",
   "metadata": {},
   "source": [
    "## Python Maintainers (not verified)"
   ]
  },
  {
   "cell_type": "code",
   "execution_count": 10,
   "metadata": {},
   "outputs": [
    {
     "data": {
      "text/html": [
       "<div>\n",
       "<style scoped>\n",
       "    .dataframe tbody tr th:only-of-type {\n",
       "        vertical-align: middle;\n",
       "    }\n",
       "\n",
       "    .dataframe tbody tr th {\n",
       "        vertical-align: top;\n",
       "    }\n",
       "\n",
       "    .dataframe thead th {\n",
       "        text-align: right;\n",
       "    }\n",
       "</style>\n",
       "<table border=\"1\" class=\"dataframe\">\n",
       "  <thead>\n",
       "    <tr style=\"text-align: right;\">\n",
       "      <th></th>\n",
       "    </tr>\n",
       "  </thead>\n",
       "  <tbody>\n",
       "  </tbody>\n",
       "</table>\n",
       "</div>"
      ],
      "text/plain": [
       "Empty DataFrame\n",
       "Columns: []\n",
       "Index: []"
      ]
     },
     "execution_count": 10,
     "metadata": {},
     "output_type": "execute_result"
    }
   ],
   "source": [
    "python_maintainers_df = functions.get_python_maintainers(pypi_data)\n",
    "python_maintainers_df"
   ]
  },
  {
   "cell_type": "code",
   "execution_count": 11,
   "metadata": {},
   "outputs": [
    {
     "data": {
      "text/html": [
       "<div>\n",
       "<style scoped>\n",
       "    .dataframe tbody tr th:only-of-type {\n",
       "        vertical-align: middle;\n",
       "    }\n",
       "\n",
       "    .dataframe tbody tr th {\n",
       "        vertical-align: top;\n",
       "    }\n",
       "\n",
       "    .dataframe thead th {\n",
       "        text-align: right;\n",
       "    }\n",
       "</style>\n",
       "<table border=\"1\" class=\"dataframe\">\n",
       "  <thead>\n",
       "    <tr style=\"text-align: right;\">\n",
       "      <th></th>\n",
       "      <th>rank</th>\n",
       "      <th>insertions</th>\n",
       "      <th>deletions</th>\n",
       "      <th>lines_changed</th>\n",
       "      <th>files</th>\n",
       "      <th>commits</th>\n",
       "      <th>first_commit</th>\n",
       "      <th>last_commit</th>\n",
       "      <th>score</th>\n",
       "    </tr>\n",
       "  </thead>\n",
       "  <tbody>\n",
       "  </tbody>\n",
       "</table>\n",
       "</div>"
      ],
      "text/plain": [
       "Empty DataFrame\n",
       "Columns: [rank, insertions, deletions, lines_changed, files, commits, first_commit, last_commit, score]\n",
       "Index: []"
      ]
     },
     "execution_count": 11,
     "metadata": {},
     "output_type": "execute_result"
    }
   ],
   "source": [
    "result = functions.matching(python_maintainers_df, git_contributors_df)\n",
    "result"
   ]
  },
  {
   "cell_type": "markdown",
   "metadata": {},
   "source": [
    "## Citation File Format (Authors)"
   ]
  },
  {
   "cell_type": "code",
   "execution_count": 12,
   "metadata": {},
   "outputs": [
    {
     "data": {
      "text/html": [
       "<div>\n",
       "<style scoped>\n",
       "    .dataframe tbody tr th:only-of-type {\n",
       "        vertical-align: middle;\n",
       "    }\n",
       "\n",
       "    .dataframe tbody tr th {\n",
       "        vertical-align: top;\n",
       "    }\n",
       "\n",
       "    .dataframe thead th {\n",
       "        text-align: right;\n",
       "    }\n",
       "</style>\n",
       "<table border=\"1\" class=\"dataframe\">\n",
       "  <thead>\n",
       "    <tr style=\"text-align: right;\">\n",
       "      <th></th>\n",
       "      <th>cff_valid</th>\n",
       "      <th>type</th>\n",
       "      <th>date-released</th>\n",
       "    </tr>\n",
       "  </thead>\n",
       "  <tbody>\n",
       "  </tbody>\n",
       "</table>\n",
       "</div>"
      ],
      "text/plain": [
       "Empty DataFrame\n",
       "Columns: [cff_valid, type, date-released]\n",
       "Index: []"
      ]
     },
     "execution_count": 12,
     "metadata": {},
     "output_type": "execute_result"
    }
   ],
   "source": [
    "cff_df = functions.get_cff_authors(owner, repo)\n",
    "cff_df"
   ]
  },
  {
   "cell_type": "code",
   "execution_count": 13,
   "metadata": {},
   "outputs": [
    {
     "data": {
      "text/html": [
       "<div>\n",
       "<style scoped>\n",
       "    .dataframe tbody tr th:only-of-type {\n",
       "        vertical-align: middle;\n",
       "    }\n",
       "\n",
       "    .dataframe tbody tr th {\n",
       "        vertical-align: top;\n",
       "    }\n",
       "\n",
       "    .dataframe thead th {\n",
       "        text-align: right;\n",
       "    }\n",
       "</style>\n",
       "<table border=\"1\" class=\"dataframe\">\n",
       "  <thead>\n",
       "    <tr style=\"text-align: right;\">\n",
       "      <th></th>\n",
       "      <th>cff_valid</th>\n",
       "      <th>type</th>\n",
       "      <th>date-released</th>\n",
       "      <th>rank</th>\n",
       "      <th>insertions</th>\n",
       "      <th>deletions</th>\n",
       "      <th>lines_changed</th>\n",
       "      <th>files</th>\n",
       "      <th>commits</th>\n",
       "      <th>first_commit</th>\n",
       "      <th>last_commit</th>\n",
       "      <th>score</th>\n",
       "    </tr>\n",
       "  </thead>\n",
       "  <tbody>\n",
       "  </tbody>\n",
       "</table>\n",
       "</div>"
      ],
      "text/plain": [
       "Empty DataFrame\n",
       "Columns: [cff_valid, type, date-released, rank, insertions, deletions, lines_changed, files, commits, first_commit, last_commit, score]\n",
       "Index: []"
      ]
     },
     "execution_count": 13,
     "metadata": {},
     "output_type": "execute_result"
    }
   ],
   "source": [
    "result = functions.matching(cff_df, git_contributors_df)\n",
    "result"
   ]
  },
  {
   "cell_type": "markdown",
   "metadata": {},
   "source": [
    "## Citation File Format (Preferred citation Authors)"
   ]
  },
  {
   "cell_type": "code",
   "execution_count": 14,
   "metadata": {},
   "outputs": [
    {
     "data": {
      "text/html": [
       "<div>\n",
       "<style scoped>\n",
       "    .dataframe tbody tr th:only-of-type {\n",
       "        vertical-align: middle;\n",
       "    }\n",
       "\n",
       "    .dataframe tbody tr th {\n",
       "        vertical-align: top;\n",
       "    }\n",
       "\n",
       "    .dataframe thead th {\n",
       "        text-align: right;\n",
       "    }\n",
       "</style>\n",
       "<table border=\"1\" class=\"dataframe\">\n",
       "  <thead>\n",
       "    <tr style=\"text-align: right;\">\n",
       "      <th></th>\n",
       "      <th>name</th>\n",
       "      <th>email</th>\n",
       "      <th>ORCID</th>\n",
       "      <th>cff_valid</th>\n",
       "      <th>type</th>\n",
       "      <th>date-released</th>\n",
       "      <th>date-published</th>\n",
       "      <th>year</th>\n",
       "      <th>month</th>\n",
       "    </tr>\n",
       "  </thead>\n",
       "  <tbody>\n",
       "    <tr>\n",
       "      <th>0</th>\n",
       "      <td>John D. Hunter</td>\n",
       "      <td>None</td>\n",
       "      <td>None</td>\n",
       "      <td>True</td>\n",
       "      <td>article</td>\n",
       "      <td>None</td>\n",
       "      <td>2007-06-18</td>\n",
       "      <td>2007</td>\n",
       "      <td>None</td>\n",
       "    </tr>\n",
       "  </tbody>\n",
       "</table>\n",
       "</div>"
      ],
      "text/plain": [
       "             name email ORCID cff_valid     type date-released date-published  \\\n",
       "0  John D. Hunter  None  None      True  article          None     2007-06-18   \n",
       "\n",
       "   year month  \n",
       "0  2007  None  "
      ]
     },
     "execution_count": 14,
     "metadata": {},
     "output_type": "execute_result"
    }
   ],
   "source": [
    "cff_df = functions.get_cff_preferred_citation_authors(owner, repo)\n",
    "cff_df"
   ]
  },
  {
   "cell_type": "code",
   "execution_count": 15,
   "metadata": {},
   "outputs": [
    {
     "data": {
      "text/html": [
       "<div>\n",
       "<style scoped>\n",
       "    .dataframe tbody tr th:only-of-type {\n",
       "        vertical-align: middle;\n",
       "    }\n",
       "\n",
       "    .dataframe tbody tr th {\n",
       "        vertical-align: top;\n",
       "    }\n",
       "\n",
       "    .dataframe thead th {\n",
       "        text-align: right;\n",
       "    }\n",
       "</style>\n",
       "<table border=\"1\" class=\"dataframe\">\n",
       "  <thead>\n",
       "    <tr style=\"text-align: right;\">\n",
       "      <th></th>\n",
       "      <th>name</th>\n",
       "      <th>email</th>\n",
       "      <th>ORCID</th>\n",
       "      <th>cff_valid</th>\n",
       "      <th>type</th>\n",
       "      <th>date-released</th>\n",
       "      <th>date-published</th>\n",
       "      <th>year</th>\n",
       "      <th>month</th>\n",
       "      <th>rank</th>\n",
       "      <th>insertions</th>\n",
       "      <th>deletions</th>\n",
       "      <th>lines_changed</th>\n",
       "      <th>files</th>\n",
       "      <th>commits</th>\n",
       "      <th>first_commit</th>\n",
       "      <th>last_commit</th>\n",
       "      <th>score</th>\n",
       "    </tr>\n",
       "  </thead>\n",
       "  <tbody>\n",
       "    <tr>\n",
       "      <th>0</th>\n",
       "      <td>John D. Hunter</td>\n",
       "      <td>None</td>\n",
       "      <td>None</td>\n",
       "      <td>True</td>\n",
       "      <td>article</td>\n",
       "      <td>None</td>\n",
       "      <td>2007-06-18</td>\n",
       "      <td>2007</td>\n",
       "      <td>None</td>\n",
       "      <td>6</td>\n",
       "      <td>356071</td>\n",
       "      <td>224386</td>\n",
       "      <td>580457</td>\n",
       "      <td>5956</td>\n",
       "      <td>1475</td>\n",
       "      <td>2005-04-11 15:17:26+00:00</td>\n",
       "      <td>2012-06-30 14:02:02-05:00</td>\n",
       "      <td>0.5</td>\n",
       "    </tr>\n",
       "  </tbody>\n",
       "</table>\n",
       "</div>"
      ],
      "text/plain": [
       "             name email ORCID cff_valid     type date-released date-published  \\\n",
       "0  John D. Hunter  None  None      True  article          None     2007-06-18   \n",
       "\n",
       "   year month  rank  insertions  deletions  lines_changed  files  commits  \\\n",
       "0  2007  None     6      356071     224386         580457   5956     1475   \n",
       "\n",
       "               first_commit               last_commit  score  \n",
       "0 2005-04-11 15:17:26+00:00 2012-06-30 14:02:02-05:00    0.5  "
      ]
     },
     "execution_count": 15,
     "metadata": {},
     "output_type": "execute_result"
    }
   ],
   "source": [
    "result = functions.matching(cff_df, git_contributors_df)\n",
    "result"
   ]
  },
  {
   "cell_type": "markdown",
   "metadata": {},
   "source": [
    "## Citation.bib"
   ]
  },
  {
   "cell_type": "code",
   "execution_count": 16,
   "metadata": {},
   "outputs": [
    {
     "data": {
      "text/html": [
       "<div>\n",
       "<style scoped>\n",
       "    .dataframe tbody tr th:only-of-type {\n",
       "        vertical-align: middle;\n",
       "    }\n",
       "\n",
       "    .dataframe tbody tr th {\n",
       "        vertical-align: top;\n",
       "    }\n",
       "\n",
       "    .dataframe thead th {\n",
       "        text-align: right;\n",
       "    }\n",
       "</style>\n",
       "<table border=\"1\" class=\"dataframe\">\n",
       "  <thead>\n",
       "    <tr style=\"text-align: right;\">\n",
       "      <th></th>\n",
       "      <th>name</th>\n",
       "      <th>type</th>\n",
       "      <th>year</th>\n",
       "      <th>month</th>\n",
       "    </tr>\n",
       "  </thead>\n",
       "  <tbody>\n",
       "    <tr>\n",
       "      <th>0</th>\n",
       "      <td>J. D. Hunter</td>\n",
       "      <td>article</td>\n",
       "      <td>2007</td>\n",
       "      <td>None</td>\n",
       "    </tr>\n",
       "  </tbody>\n",
       "</table>\n",
       "</div>"
      ],
      "text/plain": [
       "           name     type  year month\n",
       "0  J. D. Hunter  article  2007  None"
      ]
     },
     "execution_count": 16,
     "metadata": {},
     "output_type": "execute_result"
    }
   ],
   "source": [
    "bib_df = functions.get_bib_authors(owner, repo)\n",
    "bib_df"
   ]
  },
  {
   "cell_type": "code",
   "execution_count": 17,
   "metadata": {},
   "outputs": [
    {
     "data": {
      "text/html": [
       "<div>\n",
       "<style scoped>\n",
       "    .dataframe tbody tr th:only-of-type {\n",
       "        vertical-align: middle;\n",
       "    }\n",
       "\n",
       "    .dataframe tbody tr th {\n",
       "        vertical-align: top;\n",
       "    }\n",
       "\n",
       "    .dataframe thead th {\n",
       "        text-align: right;\n",
       "    }\n",
       "</style>\n",
       "<table border=\"1\" class=\"dataframe\">\n",
       "  <thead>\n",
       "    <tr style=\"text-align: right;\">\n",
       "      <th></th>\n",
       "      <th>name</th>\n",
       "      <th>type</th>\n",
       "      <th>year</th>\n",
       "      <th>month</th>\n",
       "      <th>rank</th>\n",
       "      <th>insertions</th>\n",
       "      <th>deletions</th>\n",
       "      <th>lines_changed</th>\n",
       "      <th>files</th>\n",
       "      <th>commits</th>\n",
       "      <th>first_commit</th>\n",
       "      <th>last_commit</th>\n",
       "      <th>score</th>\n",
       "    </tr>\n",
       "  </thead>\n",
       "  <tbody>\n",
       "    <tr>\n",
       "      <th>0</th>\n",
       "      <td>J. D. Hunter</td>\n",
       "      <td>article</td>\n",
       "      <td>2007</td>\n",
       "      <td>None</td>\n",
       "      <td>None</td>\n",
       "      <td>None</td>\n",
       "      <td>None</td>\n",
       "      <td>None</td>\n",
       "      <td>None</td>\n",
       "      <td>None</td>\n",
       "      <td>None</td>\n",
       "      <td>None</td>\n",
       "      <td>0</td>\n",
       "    </tr>\n",
       "  </tbody>\n",
       "</table>\n",
       "</div>"
      ],
      "text/plain": [
       "           name     type  year month  rank insertions deletions lines_changed  \\\n",
       "0  J. D. Hunter  article  2007  None  None       None      None          None   \n",
       "\n",
       "  files commits first_commit last_commit  score  \n",
       "0  None    None         None        None      0  "
      ]
     },
     "execution_count": 17,
     "metadata": {},
     "output_type": "execute_result"
    }
   ],
   "source": [
    "result = functions.matching(bib_df, git_contributors_df)\n",
    "result"
   ]
  },
  {
   "cell_type": "markdown",
   "metadata": {},
   "source": [
    "## Description"
   ]
  },
  {
   "cell_type": "code",
   "execution_count": 18,
   "metadata": {},
   "outputs": [
    {
     "data": {
      "text/html": [
       "<div>\n",
       "<style scoped>\n",
       "    .dataframe tbody tr th:only-of-type {\n",
       "        vertical-align: middle;\n",
       "    }\n",
       "\n",
       "    .dataframe tbody tr th {\n",
       "        vertical-align: top;\n",
       "    }\n",
       "\n",
       "    .dataframe thead th {\n",
       "        text-align: right;\n",
       "    }\n",
       "</style>\n",
       "<table border=\"1\" class=\"dataframe\">\n",
       "  <thead>\n",
       "    <tr style=\"text-align: right;\">\n",
       "      <th></th>\n",
       "      <th>name</th>\n",
       "    </tr>\n",
       "  </thead>\n",
       "  <tbody>\n",
       "  </tbody>\n",
       "</table>\n",
       "</div>"
      ],
      "text/plain": [
       "Empty DataFrame\n",
       "Columns: [name]\n",
       "Index: []"
      ]
     },
     "execution_count": 18,
     "metadata": {},
     "output_type": "execute_result"
    }
   ],
   "source": [
    "description = pypi_data['info']['description']\n",
    "description_df = functions.get_description_authors(description)\n",
    "description_df"
   ]
  },
  {
   "cell_type": "code",
   "execution_count": 19,
   "metadata": {},
   "outputs": [
    {
     "data": {
      "text/html": [
       "<div>\n",
       "<style scoped>\n",
       "    .dataframe tbody tr th:only-of-type {\n",
       "        vertical-align: middle;\n",
       "    }\n",
       "\n",
       "    .dataframe tbody tr th {\n",
       "        vertical-align: top;\n",
       "    }\n",
       "\n",
       "    .dataframe thead th {\n",
       "        text-align: right;\n",
       "    }\n",
       "</style>\n",
       "<table border=\"1\" class=\"dataframe\">\n",
       "  <thead>\n",
       "    <tr style=\"text-align: right;\">\n",
       "      <th></th>\n",
       "      <th>name</th>\n",
       "      <th>rank</th>\n",
       "      <th>insertions</th>\n",
       "      <th>deletions</th>\n",
       "      <th>lines_changed</th>\n",
       "      <th>files</th>\n",
       "      <th>commits</th>\n",
       "      <th>first_commit</th>\n",
       "      <th>last_commit</th>\n",
       "      <th>score</th>\n",
       "    </tr>\n",
       "  </thead>\n",
       "  <tbody>\n",
       "  </tbody>\n",
       "</table>\n",
       "</div>"
      ],
      "text/plain": [
       "Empty DataFrame\n",
       "Columns: [name, rank, insertions, deletions, lines_changed, files, commits, first_commit, last_commit, score]\n",
       "Index: []"
      ]
     },
     "execution_count": 19,
     "metadata": {},
     "output_type": "execute_result"
    }
   ],
   "source": [
    "result = functions.matching(description_df, git_contributors_df)\n",
    "result"
   ]
  },
  {
   "cell_type": "markdown",
   "metadata": {},
   "source": [
    "## README.md"
   ]
  },
  {
   "cell_type": "code",
   "execution_count": 20,
   "metadata": {},
   "outputs": [
    {
     "data": {
      "text/html": [
       "<div>\n",
       "<style scoped>\n",
       "    .dataframe tbody tr th:only-of-type {\n",
       "        vertical-align: middle;\n",
       "    }\n",
       "\n",
       "    .dataframe tbody tr th {\n",
       "        vertical-align: top;\n",
       "    }\n",
       "\n",
       "    .dataframe thead th {\n",
       "        text-align: right;\n",
       "    }\n",
       "</style>\n",
       "<table border=\"1\" class=\"dataframe\">\n",
       "  <thead>\n",
       "    <tr style=\"text-align: right;\">\n",
       "      <th></th>\n",
       "      <th>name</th>\n",
       "    </tr>\n",
       "  </thead>\n",
       "  <tbody>\n",
       "  </tbody>\n",
       "</table>\n",
       "</div>"
      ],
      "text/plain": [
       "Empty DataFrame\n",
       "Columns: [name]\n",
       "Index: []"
      ]
     },
     "execution_count": 20,
     "metadata": {},
     "output_type": "execute_result"
    }
   ],
   "source": [
    "readme_df = functions.get_readme_authors(owner, repo)\n",
    "readme_df"
   ]
  },
  {
   "cell_type": "code",
   "execution_count": 21,
   "metadata": {},
   "outputs": [
    {
     "data": {
      "text/html": [
       "<div>\n",
       "<style scoped>\n",
       "    .dataframe tbody tr th:only-of-type {\n",
       "        vertical-align: middle;\n",
       "    }\n",
       "\n",
       "    .dataframe tbody tr th {\n",
       "        vertical-align: top;\n",
       "    }\n",
       "\n",
       "    .dataframe thead th {\n",
       "        text-align: right;\n",
       "    }\n",
       "</style>\n",
       "<table border=\"1\" class=\"dataframe\">\n",
       "  <thead>\n",
       "    <tr style=\"text-align: right;\">\n",
       "      <th></th>\n",
       "      <th>name</th>\n",
       "      <th>rank</th>\n",
       "      <th>insertions</th>\n",
       "      <th>deletions</th>\n",
       "      <th>lines_changed</th>\n",
       "      <th>files</th>\n",
       "      <th>commits</th>\n",
       "      <th>first_commit</th>\n",
       "      <th>last_commit</th>\n",
       "      <th>score</th>\n",
       "    </tr>\n",
       "  </thead>\n",
       "  <tbody>\n",
       "  </tbody>\n",
       "</table>\n",
       "</div>"
      ],
      "text/plain": [
       "Empty DataFrame\n",
       "Columns: [name, rank, insertions, deletions, lines_changed, files, commits, first_commit, last_commit, score]\n",
       "Index: []"
      ]
     },
     "execution_count": 21,
     "metadata": {},
     "output_type": "execute_result"
    }
   ],
   "source": [
    "result = functions.matching(readme_df, git_contributors_df)\n",
    "result"
   ]
  }
 ],
 "metadata": {
  "kernelspec": {
   "display_name": ".venv",
   "language": "python",
   "name": "python3"
  },
  "language_info": {
   "codemirror_mode": {
    "name": "ipython",
    "version": 3
   },
   "file_extension": ".py",
   "mimetype": "text/x-python",
   "name": "python",
   "nbconvert_exporter": "python",
   "pygments_lexer": "ipython3",
   "version": "3.10.12"
  }
 },
 "nbformat": 4,
 "nbformat_minor": 2
}
