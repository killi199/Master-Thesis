{
 "cells": [
  {
   "cell_type": "code",
   "execution_count": 1,
   "metadata": {},
   "outputs": [
    {
     "data": {
      "text/plain": [
       "<module 'functions' from '/mnt/c/DEV/Masterarbeit/code/functions.py'>"
      ]
     },
     "execution_count": 1,
     "metadata": {},
     "output_type": "execute_result"
    }
   ],
   "source": [
    "import requests\n",
    "import pandas as pd\n",
    "import functions\n",
    "from importlib import reload\n",
    "reload(functions)"
   ]
  },
  {
   "cell_type": "markdown",
   "metadata": {},
   "source": [
    "Service is a CouchDB\n",
    "<https://www.r-pkg.org/services>\n",
    "What is R-Hub in this context?"
   ]
  },
  {
   "cell_type": "markdown",
   "metadata": {},
   "source": [
    "https://cran.r-project.org/web/packages/ggplot2/index.html\n",
    "https://r-pkg.org/pkg/ggplot2\n",
    "https://crandb.r-pkg.org/ggplot2"
   ]
  },
  {
   "cell_type": "code",
   "execution_count": 2,
   "metadata": {},
   "outputs": [],
   "source": [
    "package_name = \"ggplot2\"\n",
    "response = requests.get(f\"https://crandb.r-pkg.org/{package_name}\")\n",
    "cran_data = response.json()"
   ]
  },
  {
   "cell_type": "code",
   "execution_count": 3,
   "metadata": {},
   "outputs": [
    {
     "data": {
      "text/plain": [
       "'https://github.com/tidyverse/ggplot2'"
      ]
     },
     "execution_count": 3,
     "metadata": {},
     "output_type": "execute_result"
    }
   ],
   "source": [
    "owner, repo, repo_link = functions.get_cran_repo(cran_data)\n",
    "repo_link"
   ]
  },
  {
   "cell_type": "code",
   "execution_count": 4,
   "metadata": {},
   "outputs": [],
   "source": [
    "pd.set_option('display.max_rows', None)"
   ]
  },
  {
   "cell_type": "markdown",
   "metadata": {},
   "source": [
    "## Git quick stats"
   ]
  },
  {
   "cell_type": "code",
   "execution_count": 5,
   "metadata": {},
   "outputs": [
    {
     "data": {
      "text/html": [
       "<div>\n",
       "<style scoped>\n",
       "    .dataframe tbody tr th:only-of-type {\n",
       "        vertical-align: middle;\n",
       "    }\n",
       "\n",
       "    .dataframe tbody tr th {\n",
       "        vertical-align: top;\n",
       "    }\n",
       "\n",
       "    .dataframe thead th {\n",
       "        text-align: right;\n",
       "    }\n",
       "</style>\n",
       "<table border=\"1\" class=\"dataframe\">\n",
       "  <thead>\n",
       "    <tr style=\"text-align: right;\">\n",
       "      <th></th>\n",
       "      <th>name</th>\n",
       "      <th>email</th>\n",
       "      <th>insertions</th>\n",
       "      <th>deletions</th>\n",
       "      <th>lines_changed</th>\n",
       "      <th>files</th>\n",
       "      <th>commits</th>\n",
       "      <th>first_commit</th>\n",
       "      <th>last_commit</th>\n",
       "    </tr>\n",
       "  </thead>\n",
       "  <tbody>\n",
       "    <tr>\n",
       "      <th>0</th>\n",
       "      <td>hadleyHadley Wickham</td>\n",
       "      <td>h.wickham@gmail.com</td>\n",
       "      <td>327019</td>\n",
       "      <td>236072</td>\n",
       "      <td>563091</td>\n",
       "      <td>13840</td>\n",
       "      <td>2275</td>\n",
       "      <td>2007-11-06 20:02:08+00:00</td>\n",
       "      <td>2024-04-24 08:24:43-05:00</td>\n",
       "    </tr>\n",
       "    <tr>\n",
       "      <th>1</th>\n",
       "      <td>Winston Chang</td>\n",
       "      <td>winston@stdout.org</td>\n",
       "      <td>31473</td>\n",
       "      <td>33787</td>\n",
       "      <td>65260</td>\n",
       "      <td>2869</td>\n",
       "      <td>589</td>\n",
       "      <td>2011-12-07 04:36:49-06:00</td>\n",
       "      <td>2018-07-26 18:12:17-04:00</td>\n",
       "    </tr>\n",
       "    <tr>\n",
       "      <th>2</th>\n",
       "      <td>Teun van den Brand</td>\n",
       "      <td>49372158+teunbrand@users.noreply.github.com</td>\n",
       "      <td>58483</td>\n",
       "      <td>23651</td>\n",
       "      <td>82134</td>\n",
       "      <td>2457</td>\n",
       "      <td>372</td>\n",
       "      <td>2020-01-11 17:13:42+01:00</td>\n",
       "      <td>2024-08-28 09:55:50+02:00</td>\n",
       "    </tr>\n",
       "    <tr>\n",
       "      <th>3</th>\n",
       "      <td>Thomas Lin PedersenThomas Dybdal Pedersenthoma...</td>\n",
       "      <td>thomasp85@gmail.com</td>\n",
       "      <td>130191</td>\n",
       "      <td>125631</td>\n",
       "      <td>255822</td>\n",
       "      <td>2507</td>\n",
       "      <td>314</td>\n",
       "      <td>2016-01-28 15:40:35+01:00</td>\n",
       "      <td>2024-04-23 12:21:56+02:00</td>\n",
       "    </tr>\n",
       "    <tr>\n",
       "      <th>4</th>\n",
       "      <td>Kohske Takahashi @ YukarinKohske Takahashi @ Y...</td>\n",
       "      <td>takahashi.kohske@gmail.com</td>\n",
       "      <td>6802</td>\n",
       "      <td>3897</td>\n",
       "      <td>10699</td>\n",
       "      <td>372</td>\n",
       "      <td>194</td>\n",
       "      <td>2010-10-14 09:43:37+09:00</td>\n",
       "      <td>2012-06-27 06:53:31+09:00</td>\n",
       "    </tr>\n",
       "    <tr>\n",
       "      <th>5</th>\n",
       "      <td>Hiroaki Yutaniyutannihilation</td>\n",
       "      <td>yutani.ini@gmail.com</td>\n",
       "      <td>4562</td>\n",
       "      <td>3424</td>\n",
       "      <td>7986</td>\n",
       "      <td>754</td>\n",
       "      <td>159</td>\n",
       "      <td>2016-03-04 06:24:40+09:00</td>\n",
       "      <td>2024-07-08 18:14:27+09:00</td>\n",
       "    </tr>\n",
       "    <tr>\n",
       "      <th>6</th>\n",
       "      <td>Claus Wilke</td>\n",
       "      <td>wilke@austin.utexas.edu</td>\n",
       "      <td>31645</td>\n",
       "      <td>26912</td>\n",
       "      <td>58557</td>\n",
       "      <td>666</td>\n",
       "      <td>99</td>\n",
       "      <td>2018-01-12 09:22:18-06:00</td>\n",
       "      <td>2022-07-07 11:29:26-05:00</td>\n",
       "    </tr>\n",
       "    <tr>\n",
       "      <th>7</th>\n",
       "      <td>Jean-Olivier Irisson</td>\n",
       "      <td>irisson@normalesup.org</td>\n",
       "      <td>1181</td>\n",
       "      <td>656</td>\n",
       "      <td>1837</td>\n",
       "      <td>133</td>\n",
       "      <td>60</td>\n",
       "      <td>2011-05-18 17:40:39+02:00</td>\n",
       "      <td>2016-01-26 15:00:52+01:00</td>\n",
       "    </tr>\n",
       "    <tr>\n",
       "      <th>8</th>\n",
       "      <td>Lionel Henry</td>\n",
       "      <td>lionel.hry@gmail.com</td>\n",
       "      <td>80950</td>\n",
       "      <td>43731</td>\n",
       "      <td>124681</td>\n",
       "      <td>1025</td>\n",
       "      <td>58</td>\n",
       "      <td>2014-06-09 13:08:19+02:00</td>\n",
       "      <td>2022-04-19 14:29:06+02:00</td>\n",
       "    </tr>\n",
       "    <tr>\n",
       "      <th>9</th>\n",
       "      <td>Dewey Dunnington</td>\n",
       "      <td>dewey@fishandwhistle.net</td>\n",
       "      <td>7545</td>\n",
       "      <td>2743</td>\n",
       "      <td>10288</td>\n",
       "      <td>213</td>\n",
       "      <td>47</td>\n",
       "      <td>2019-01-20 19:01:54-06:00</td>\n",
       "      <td>2021-05-19 10:57:34-03:00</td>\n",
       "    </tr>\n",
       "  </tbody>\n",
       "</table>\n",
       "</div>"
      ],
      "text/plain": [
       "                                                name  \\\n",
       "0                               hadleyHadley Wickham   \n",
       "1                                      Winston Chang   \n",
       "2                                 Teun van den Brand   \n",
       "3  Thomas Lin PedersenThomas Dybdal Pedersenthoma...   \n",
       "4  Kohske Takahashi @ YukarinKohske Takahashi @ Y...   \n",
       "5                      Hiroaki Yutaniyutannihilation   \n",
       "6                                        Claus Wilke   \n",
       "7                               Jean-Olivier Irisson   \n",
       "8                                       Lionel Henry   \n",
       "9                                   Dewey Dunnington   \n",
       "\n",
       "                                         email  insertions  deletions  \\\n",
       "0                          h.wickham@gmail.com      327019     236072   \n",
       "1                           winston@stdout.org       31473      33787   \n",
       "2  49372158+teunbrand@users.noreply.github.com       58483      23651   \n",
       "3                          thomasp85@gmail.com      130191     125631   \n",
       "4                   takahashi.kohske@gmail.com        6802       3897   \n",
       "5                         yutani.ini@gmail.com        4562       3424   \n",
       "6                      wilke@austin.utexas.edu       31645      26912   \n",
       "7                       irisson@normalesup.org        1181        656   \n",
       "8                         lionel.hry@gmail.com       80950      43731   \n",
       "9                     dewey@fishandwhistle.net        7545       2743   \n",
       "\n",
       "   lines_changed  files  commits               first_commit  \\\n",
       "0         563091  13840     2275  2007-11-06 20:02:08+00:00   \n",
       "1          65260   2869      589  2011-12-07 04:36:49-06:00   \n",
       "2          82134   2457      372  2020-01-11 17:13:42+01:00   \n",
       "3         255822   2507      314  2016-01-28 15:40:35+01:00   \n",
       "4          10699    372      194  2010-10-14 09:43:37+09:00   \n",
       "5           7986    754      159  2016-03-04 06:24:40+09:00   \n",
       "6          58557    666       99  2018-01-12 09:22:18-06:00   \n",
       "7           1837    133       60  2011-05-18 17:40:39+02:00   \n",
       "8         124681   1025       58  2014-06-09 13:08:19+02:00   \n",
       "9          10288    213       47  2019-01-20 19:01:54-06:00   \n",
       "\n",
       "                 last_commit  \n",
       "0  2024-04-24 08:24:43-05:00  \n",
       "1  2018-07-26 18:12:17-04:00  \n",
       "2  2024-08-28 09:55:50+02:00  \n",
       "3  2024-04-23 12:21:56+02:00  \n",
       "4  2012-06-27 06:53:31+09:00  \n",
       "5  2024-07-08 18:14:27+09:00  \n",
       "6  2022-07-07 11:29:26-05:00  \n",
       "7  2016-01-26 15:00:52+01:00  \n",
       "8  2022-04-19 14:29:06+02:00  \n",
       "9  2021-05-19 10:57:34-03:00  "
      ]
     },
     "execution_count": 5,
     "metadata": {},
     "output_type": "execute_result"
    }
   ],
   "source": [
    "git_contributors_df = await functions.get_git_contributors(owner, repo, repo_link, package_name)\n",
    "git_contributors_df.head(10)"
   ]
  },
  {
   "cell_type": "markdown",
   "metadata": {},
   "source": [
    "## CRAN Authors"
   ]
  },
  {
   "cell_type": "code",
   "execution_count": 6,
   "metadata": {},
   "outputs": [
    {
     "data": {
      "text/html": [
       "<div>\n",
       "<style scoped>\n",
       "    .dataframe tbody tr th:only-of-type {\n",
       "        vertical-align: middle;\n",
       "    }\n",
       "\n",
       "    .dataframe tbody tr th {\n",
       "        vertical-align: top;\n",
       "    }\n",
       "\n",
       "    .dataframe thead th {\n",
       "        text-align: right;\n",
       "    }\n",
       "</style>\n",
       "<table border=\"1\" class=\"dataframe\">\n",
       "  <thead>\n",
       "    <tr style=\"text-align: right;\">\n",
       "      <th></th>\n",
       "      <th>name</th>\n",
       "      <th>email</th>\n",
       "      <th>ORCID</th>\n",
       "    </tr>\n",
       "  </thead>\n",
       "  <tbody>\n",
       "    <tr>\n",
       "      <th>0</th>\n",
       "      <td>Hadley Wickham</td>\n",
       "      <td>hadley@posit.co</td>\n",
       "      <td>0000-0003-4757-117X</td>\n",
       "    </tr>\n",
       "    <tr>\n",
       "      <th>1</th>\n",
       "      <td>Winston Chang</td>\n",
       "      <td>None</td>\n",
       "      <td>0000-0002-1576-2126</td>\n",
       "    </tr>\n",
       "    <tr>\n",
       "      <th>2</th>\n",
       "      <td>Lionel Henry</td>\n",
       "      <td>None</td>\n",
       "      <td>None</td>\n",
       "    </tr>\n",
       "    <tr>\n",
       "      <th>3</th>\n",
       "      <td>Thomas Lin Pedersen</td>\n",
       "      <td>thomas.pedersen@posit.co</td>\n",
       "      <td>0000-0002-5147-4711</td>\n",
       "    </tr>\n",
       "    <tr>\n",
       "      <th>4</th>\n",
       "      <td>Kohske Takahashi</td>\n",
       "      <td>None</td>\n",
       "      <td>None</td>\n",
       "    </tr>\n",
       "    <tr>\n",
       "      <th>5</th>\n",
       "      <td>Claus Wilke</td>\n",
       "      <td>None</td>\n",
       "      <td>0000-0002-7470-9261</td>\n",
       "    </tr>\n",
       "    <tr>\n",
       "      <th>6</th>\n",
       "      <td>Kara Woo</td>\n",
       "      <td>None</td>\n",
       "      <td>0000-0002-5125-4188</td>\n",
       "    </tr>\n",
       "    <tr>\n",
       "      <th>7</th>\n",
       "      <td>Hiroaki Yutani</td>\n",
       "      <td>None</td>\n",
       "      <td>0000-0002-3385-7233</td>\n",
       "    </tr>\n",
       "    <tr>\n",
       "      <th>8</th>\n",
       "      <td>Dewey Dunnington</td>\n",
       "      <td>None</td>\n",
       "      <td>0000-0002-9415-4582</td>\n",
       "    </tr>\n",
       "    <tr>\n",
       "      <th>9</th>\n",
       "      <td>Teun van den Brand</td>\n",
       "      <td>None</td>\n",
       "      <td>0000-0002-9335-7468</td>\n",
       "    </tr>\n",
       "  </tbody>\n",
       "</table>\n",
       "</div>"
      ],
      "text/plain": [
       "                  name                     email                ORCID\n",
       "0       Hadley Wickham           hadley@posit.co  0000-0003-4757-117X\n",
       "1        Winston Chang                      None  0000-0002-1576-2126\n",
       "2         Lionel Henry                      None                 None\n",
       "3  Thomas Lin Pedersen  thomas.pedersen@posit.co  0000-0002-5147-4711\n",
       "4     Kohske Takahashi                      None                 None\n",
       "5          Claus Wilke                      None  0000-0002-7470-9261\n",
       "6             Kara Woo                      None  0000-0002-5125-4188\n",
       "7       Hiroaki Yutani                      None  0000-0002-3385-7233\n",
       "8     Dewey Dunnington                      None  0000-0002-9415-4582\n",
       "9   Teun van den Brand                      None  0000-0002-9335-7468"
      ]
     },
     "execution_count": 6,
     "metadata": {},
     "output_type": "execute_result"
    }
   ],
   "source": [
    "cran_authors_df = functions.get_cran_authors(cran_data)\n",
    "cran_authors_df"
   ]
  },
  {
   "cell_type": "code",
   "execution_count": 7,
   "metadata": {},
   "outputs": [
    {
     "data": {
      "text/html": [
       "<div>\n",
       "<style scoped>\n",
       "    .dataframe tbody tr th:only-of-type {\n",
       "        vertical-align: middle;\n",
       "    }\n",
       "\n",
       "    .dataframe tbody tr th {\n",
       "        vertical-align: top;\n",
       "    }\n",
       "\n",
       "    .dataframe thead th {\n",
       "        text-align: right;\n",
       "    }\n",
       "</style>\n",
       "<table border=\"1\" class=\"dataframe\">\n",
       "  <thead>\n",
       "    <tr style=\"text-align: right;\">\n",
       "      <th></th>\n",
       "      <th>name</th>\n",
       "      <th>email</th>\n",
       "      <th>ORCID</th>\n",
       "      <th>rank</th>\n",
       "      <th>insertions</th>\n",
       "      <th>deletions</th>\n",
       "      <th>lines_changed</th>\n",
       "      <th>files</th>\n",
       "      <th>commits</th>\n",
       "      <th>first_commit</th>\n",
       "      <th>last_commit</th>\n",
       "      <th>score</th>\n",
       "    </tr>\n",
       "  </thead>\n",
       "  <tbody>\n",
       "    <tr>\n",
       "      <th>0</th>\n",
       "      <td>Hadley Wickham</td>\n",
       "      <td>hadley@posit.co</td>\n",
       "      <td>0000-0003-4757-117X</td>\n",
       "      <td>1</td>\n",
       "      <td>327019</td>\n",
       "      <td>236072</td>\n",
       "      <td>563091</td>\n",
       "      <td>13840</td>\n",
       "      <td>2275</td>\n",
       "      <td>2007-11-06 20:02:08+00:00</td>\n",
       "      <td>2024-04-24 08:24:43-05:00</td>\n",
       "      <td>0.5</td>\n",
       "    </tr>\n",
       "    <tr>\n",
       "      <th>1</th>\n",
       "      <td>Winston Chang</td>\n",
       "      <td>None</td>\n",
       "      <td>0000-0002-1576-2126</td>\n",
       "      <td>2</td>\n",
       "      <td>31473</td>\n",
       "      <td>33787</td>\n",
       "      <td>65260</td>\n",
       "      <td>2869</td>\n",
       "      <td>589</td>\n",
       "      <td>2011-12-07 04:36:49-06:00</td>\n",
       "      <td>2018-07-26 18:12:17-04:00</td>\n",
       "      <td>0.5</td>\n",
       "    </tr>\n",
       "    <tr>\n",
       "      <th>9</th>\n",
       "      <td>Teun van den Brand</td>\n",
       "      <td>None</td>\n",
       "      <td>0000-0002-9335-7468</td>\n",
       "      <td>3</td>\n",
       "      <td>58483</td>\n",
       "      <td>23651</td>\n",
       "      <td>82134</td>\n",
       "      <td>2457</td>\n",
       "      <td>372</td>\n",
       "      <td>2020-01-11 17:13:42+01:00</td>\n",
       "      <td>2024-08-28 09:55:50+02:00</td>\n",
       "      <td>0.5</td>\n",
       "    </tr>\n",
       "    <tr>\n",
       "      <th>4</th>\n",
       "      <td>Kohske Takahashi</td>\n",
       "      <td>None</td>\n",
       "      <td>None</td>\n",
       "      <td>5</td>\n",
       "      <td>6802</td>\n",
       "      <td>3897</td>\n",
       "      <td>10699</td>\n",
       "      <td>372</td>\n",
       "      <td>194</td>\n",
       "      <td>2010-10-14 09:43:37+09:00</td>\n",
       "      <td>2012-06-27 06:53:31+09:00</td>\n",
       "      <td>0.5</td>\n",
       "    </tr>\n",
       "    <tr>\n",
       "      <th>7</th>\n",
       "      <td>Hiroaki Yutani</td>\n",
       "      <td>None</td>\n",
       "      <td>0000-0002-3385-7233</td>\n",
       "      <td>6</td>\n",
       "      <td>4562</td>\n",
       "      <td>3424</td>\n",
       "      <td>7986</td>\n",
       "      <td>754</td>\n",
       "      <td>159</td>\n",
       "      <td>2016-03-04 06:24:40+09:00</td>\n",
       "      <td>2024-07-08 18:14:27+09:00</td>\n",
       "      <td>0.5</td>\n",
       "    </tr>\n",
       "    <tr>\n",
       "      <th>5</th>\n",
       "      <td>Claus Wilke</td>\n",
       "      <td>None</td>\n",
       "      <td>0000-0002-7470-9261</td>\n",
       "      <td>7</td>\n",
       "      <td>31645</td>\n",
       "      <td>26912</td>\n",
       "      <td>58557</td>\n",
       "      <td>666</td>\n",
       "      <td>99</td>\n",
       "      <td>2018-01-12 09:22:18-06:00</td>\n",
       "      <td>2022-07-07 11:29:26-05:00</td>\n",
       "      <td>0.5</td>\n",
       "    </tr>\n",
       "    <tr>\n",
       "      <th>2</th>\n",
       "      <td>Lionel Henry</td>\n",
       "      <td>None</td>\n",
       "      <td>None</td>\n",
       "      <td>9</td>\n",
       "      <td>80950</td>\n",
       "      <td>43731</td>\n",
       "      <td>124681</td>\n",
       "      <td>1025</td>\n",
       "      <td>58</td>\n",
       "      <td>2014-06-09 13:08:19+02:00</td>\n",
       "      <td>2022-04-19 14:29:06+02:00</td>\n",
       "      <td>0.5</td>\n",
       "    </tr>\n",
       "    <tr>\n",
       "      <th>8</th>\n",
       "      <td>Dewey Dunnington</td>\n",
       "      <td>None</td>\n",
       "      <td>0000-0002-9415-4582</td>\n",
       "      <td>10</td>\n",
       "      <td>7545</td>\n",
       "      <td>2743</td>\n",
       "      <td>10288</td>\n",
       "      <td>213</td>\n",
       "      <td>47</td>\n",
       "      <td>2019-01-20 19:01:54-06:00</td>\n",
       "      <td>2021-05-19 10:57:34-03:00</td>\n",
       "      <td>0.5</td>\n",
       "    </tr>\n",
       "    <tr>\n",
       "      <th>6</th>\n",
       "      <td>Kara Woo</td>\n",
       "      <td>None</td>\n",
       "      <td>0000-0002-5125-4188</td>\n",
       "      <td>11</td>\n",
       "      <td>11794</td>\n",
       "      <td>8453</td>\n",
       "      <td>20247</td>\n",
       "      <td>577</td>\n",
       "      <td>44</td>\n",
       "      <td>2017-06-01 09:09:18-07:00</td>\n",
       "      <td>2020-10-27 20:39:55-07:00</td>\n",
       "      <td>0.5</td>\n",
       "    </tr>\n",
       "    <tr>\n",
       "      <th>3</th>\n",
       "      <td>Thomas Lin Pedersen</td>\n",
       "      <td>thomas.pedersen@posit.co</td>\n",
       "      <td>0000-0002-5147-4711</td>\n",
       "      <td>200</td>\n",
       "      <td>11</td>\n",
       "      <td>7</td>\n",
       "      <td>18</td>\n",
       "      <td>5</td>\n",
       "      <td>1</td>\n",
       "      <td>2024-08-23 11:39:12+02:00</td>\n",
       "      <td>2024-08-23 11:39:12+02:00</td>\n",
       "      <td>1.0</td>\n",
       "    </tr>\n",
       "  </tbody>\n",
       "</table>\n",
       "</div>"
      ],
      "text/plain": [
       "                  name                     email                ORCID  rank  \\\n",
       "0       Hadley Wickham           hadley@posit.co  0000-0003-4757-117X     1   \n",
       "1        Winston Chang                      None  0000-0002-1576-2126     2   \n",
       "9   Teun van den Brand                      None  0000-0002-9335-7468     3   \n",
       "4     Kohske Takahashi                      None                 None     5   \n",
       "7       Hiroaki Yutani                      None  0000-0002-3385-7233     6   \n",
       "5          Claus Wilke                      None  0000-0002-7470-9261     7   \n",
       "2         Lionel Henry                      None                 None     9   \n",
       "8     Dewey Dunnington                      None  0000-0002-9415-4582    10   \n",
       "6             Kara Woo                      None  0000-0002-5125-4188    11   \n",
       "3  Thomas Lin Pedersen  thomas.pedersen@posit.co  0000-0002-5147-4711   200   \n",
       "\n",
       "   insertions  deletions  lines_changed  files  commits  \\\n",
       "0      327019     236072         563091  13840     2275   \n",
       "1       31473      33787          65260   2869      589   \n",
       "9       58483      23651          82134   2457      372   \n",
       "4        6802       3897          10699    372      194   \n",
       "7        4562       3424           7986    754      159   \n",
       "5       31645      26912          58557    666       99   \n",
       "2       80950      43731         124681   1025       58   \n",
       "8        7545       2743          10288    213       47   \n",
       "6       11794       8453          20247    577       44   \n",
       "3          11          7             18      5        1   \n",
       "\n",
       "                first_commit                last_commit  score  \n",
       "0  2007-11-06 20:02:08+00:00  2024-04-24 08:24:43-05:00    0.5  \n",
       "1  2011-12-07 04:36:49-06:00  2018-07-26 18:12:17-04:00    0.5  \n",
       "9  2020-01-11 17:13:42+01:00  2024-08-28 09:55:50+02:00    0.5  \n",
       "4  2010-10-14 09:43:37+09:00  2012-06-27 06:53:31+09:00    0.5  \n",
       "7  2016-03-04 06:24:40+09:00  2024-07-08 18:14:27+09:00    0.5  \n",
       "5  2018-01-12 09:22:18-06:00  2022-07-07 11:29:26-05:00    0.5  \n",
       "2  2014-06-09 13:08:19+02:00  2022-04-19 14:29:06+02:00    0.5  \n",
       "8  2019-01-20 19:01:54-06:00  2021-05-19 10:57:34-03:00    0.5  \n",
       "6  2017-06-01 09:09:18-07:00  2020-10-27 20:39:55-07:00    0.5  \n",
       "3  2024-08-23 11:39:12+02:00  2024-08-23 11:39:12+02:00    1.0  "
      ]
     },
     "execution_count": 7,
     "metadata": {},
     "output_type": "execute_result"
    }
   ],
   "source": [
    "result = functions.matching(cran_authors_df, git_contributors_df)\n",
    "result"
   ]
  },
  {
   "cell_type": "markdown",
   "metadata": {},
   "source": [
    "## CRAN Maintainers"
   ]
  },
  {
   "cell_type": "code",
   "execution_count": 8,
   "metadata": {},
   "outputs": [
    {
     "data": {
      "text/html": [
       "<div>\n",
       "<style scoped>\n",
       "    .dataframe tbody tr th:only-of-type {\n",
       "        vertical-align: middle;\n",
       "    }\n",
       "\n",
       "    .dataframe tbody tr th {\n",
       "        vertical-align: top;\n",
       "    }\n",
       "\n",
       "    .dataframe thead th {\n",
       "        text-align: right;\n",
       "    }\n",
       "</style>\n",
       "<table border=\"1\" class=\"dataframe\">\n",
       "  <thead>\n",
       "    <tr style=\"text-align: right;\">\n",
       "      <th></th>\n",
       "      <th>name</th>\n",
       "      <th>email</th>\n",
       "    </tr>\n",
       "  </thead>\n",
       "  <tbody>\n",
       "    <tr>\n",
       "      <th>0</th>\n",
       "      <td>Thomas Lin Pedersen</td>\n",
       "      <td>thomas.pedersen@posit.co</td>\n",
       "    </tr>\n",
       "  </tbody>\n",
       "</table>\n",
       "</div>"
      ],
      "text/plain": [
       "                  name                     email\n",
       "0  Thomas Lin Pedersen  thomas.pedersen@posit.co"
      ]
     },
     "execution_count": 8,
     "metadata": {},
     "output_type": "execute_result"
    }
   ],
   "source": [
    "cran_maintainers_df = functions.get_cran_maintainers(cran_data)\n",
    "cran_maintainers_df"
   ]
  },
  {
   "cell_type": "code",
   "execution_count": 9,
   "metadata": {},
   "outputs": [
    {
     "data": {
      "text/html": [
       "<div>\n",
       "<style scoped>\n",
       "    .dataframe tbody tr th:only-of-type {\n",
       "        vertical-align: middle;\n",
       "    }\n",
       "\n",
       "    .dataframe tbody tr th {\n",
       "        vertical-align: top;\n",
       "    }\n",
       "\n",
       "    .dataframe thead th {\n",
       "        text-align: right;\n",
       "    }\n",
       "</style>\n",
       "<table border=\"1\" class=\"dataframe\">\n",
       "  <thead>\n",
       "    <tr style=\"text-align: right;\">\n",
       "      <th></th>\n",
       "      <th>name</th>\n",
       "      <th>email</th>\n",
       "      <th>rank</th>\n",
       "      <th>insertions</th>\n",
       "      <th>deletions</th>\n",
       "      <th>lines_changed</th>\n",
       "      <th>files</th>\n",
       "      <th>commits</th>\n",
       "      <th>first_commit</th>\n",
       "      <th>last_commit</th>\n",
       "      <th>score</th>\n",
       "    </tr>\n",
       "  </thead>\n",
       "  <tbody>\n",
       "    <tr>\n",
       "      <th>0</th>\n",
       "      <td>Thomas Lin Pedersen</td>\n",
       "      <td>thomas.pedersen@posit.co</td>\n",
       "      <td>200</td>\n",
       "      <td>11</td>\n",
       "      <td>7</td>\n",
       "      <td>18</td>\n",
       "      <td>5</td>\n",
       "      <td>1</td>\n",
       "      <td>2024-08-23 11:39:12+02:00</td>\n",
       "      <td>2024-08-23 11:39:12+02:00</td>\n",
       "      <td>1.0</td>\n",
       "    </tr>\n",
       "  </tbody>\n",
       "</table>\n",
       "</div>"
      ],
      "text/plain": [
       "                  name                     email  rank  insertions  deletions  \\\n",
       "0  Thomas Lin Pedersen  thomas.pedersen@posit.co   200          11          7   \n",
       "\n",
       "   lines_changed  files  commits              first_commit  \\\n",
       "0             18      5        1 2024-08-23 11:39:12+02:00   \n",
       "\n",
       "                last_commit  score  \n",
       "0 2024-08-23 11:39:12+02:00    1.0  "
      ]
     },
     "execution_count": 9,
     "metadata": {},
     "output_type": "execute_result"
    }
   ],
   "source": [
    "result = functions.matching(cran_maintainers_df, git_contributors_df)\n",
    "result"
   ]
  },
  {
   "cell_type": "markdown",
   "metadata": {},
   "source": [
    "## Citation File Format (Authors)"
   ]
  },
  {
   "cell_type": "code",
   "execution_count": 10,
   "metadata": {},
   "outputs": [],
   "source": [
    "cff_authors_df, cff_df = functions.get_cff_data(owner, repo)"
   ]
  },
  {
   "cell_type": "code",
   "execution_count": 11,
   "metadata": {},
   "outputs": [
    {
     "data": {
      "text/html": [
       "<div>\n",
       "<style scoped>\n",
       "    .dataframe tbody tr th:only-of-type {\n",
       "        vertical-align: middle;\n",
       "    }\n",
       "\n",
       "    .dataframe tbody tr th {\n",
       "        vertical-align: top;\n",
       "    }\n",
       "\n",
       "    .dataframe thead th {\n",
       "        text-align: right;\n",
       "    }\n",
       "</style>\n",
       "<table border=\"1\" class=\"dataframe\">\n",
       "  <thead>\n",
       "    <tr style=\"text-align: right;\">\n",
       "      <th></th>\n",
       "    </tr>\n",
       "  </thead>\n",
       "  <tbody>\n",
       "  </tbody>\n",
       "</table>\n",
       "</div>"
      ],
      "text/plain": [
       "Empty DataFrame\n",
       "Columns: []\n",
       "Index: []"
      ]
     },
     "execution_count": 11,
     "metadata": {},
     "output_type": "execute_result"
    }
   ],
   "source": [
    "cff_authors_df"
   ]
  },
  {
   "cell_type": "code",
   "execution_count": 12,
   "metadata": {},
   "outputs": [
    {
     "data": {
      "text/html": [
       "<div>\n",
       "<style scoped>\n",
       "    .dataframe tbody tr th:only-of-type {\n",
       "        vertical-align: middle;\n",
       "    }\n",
       "\n",
       "    .dataframe tbody tr th {\n",
       "        vertical-align: top;\n",
       "    }\n",
       "\n",
       "    .dataframe thead th {\n",
       "        text-align: right;\n",
       "    }\n",
       "</style>\n",
       "<table border=\"1\" class=\"dataframe\">\n",
       "  <thead>\n",
       "    <tr style=\"text-align: right;\">\n",
       "      <th></th>\n",
       "    </tr>\n",
       "  </thead>\n",
       "  <tbody>\n",
       "  </tbody>\n",
       "</table>\n",
       "</div>"
      ],
      "text/plain": [
       "Empty DataFrame\n",
       "Columns: []\n",
       "Index: []"
      ]
     },
     "execution_count": 12,
     "metadata": {},
     "output_type": "execute_result"
    }
   ],
   "source": [
    "cff_df"
   ]
  },
  {
   "cell_type": "code",
   "execution_count": 13,
   "metadata": {},
   "outputs": [
    {
     "data": {
      "text/html": [
       "<div>\n",
       "<style scoped>\n",
       "    .dataframe tbody tr th:only-of-type {\n",
       "        vertical-align: middle;\n",
       "    }\n",
       "\n",
       "    .dataframe tbody tr th {\n",
       "        vertical-align: top;\n",
       "    }\n",
       "\n",
       "    .dataframe thead th {\n",
       "        text-align: right;\n",
       "    }\n",
       "</style>\n",
       "<table border=\"1\" class=\"dataframe\">\n",
       "  <thead>\n",
       "    <tr style=\"text-align: right;\">\n",
       "      <th></th>\n",
       "      <th>rank</th>\n",
       "      <th>insertions</th>\n",
       "      <th>deletions</th>\n",
       "      <th>lines_changed</th>\n",
       "      <th>files</th>\n",
       "      <th>commits</th>\n",
       "      <th>first_commit</th>\n",
       "      <th>last_commit</th>\n",
       "      <th>score</th>\n",
       "    </tr>\n",
       "  </thead>\n",
       "  <tbody>\n",
       "  </tbody>\n",
       "</table>\n",
       "</div>"
      ],
      "text/plain": [
       "Empty DataFrame\n",
       "Columns: [rank, insertions, deletions, lines_changed, files, commits, first_commit, last_commit, score]\n",
       "Index: []"
      ]
     },
     "execution_count": 13,
     "metadata": {},
     "output_type": "execute_result"
    }
   ],
   "source": [
    "result = functions.matching(cff_authors_df, git_contributors_df)\n",
    "result"
   ]
  },
  {
   "cell_type": "markdown",
   "metadata": {},
   "source": [
    "## Citation File Format (Preferred citation Authors)"
   ]
  },
  {
   "cell_type": "code",
   "execution_count": 14,
   "metadata": {},
   "outputs": [],
   "source": [
    "cff_authors_df, cff_df = functions.get_cff_preferred_citation_data(owner, repo)"
   ]
  },
  {
   "cell_type": "code",
   "execution_count": 15,
   "metadata": {},
   "outputs": [
    {
     "data": {
      "text/html": [
       "<div>\n",
       "<style scoped>\n",
       "    .dataframe tbody tr th:only-of-type {\n",
       "        vertical-align: middle;\n",
       "    }\n",
       "\n",
       "    .dataframe tbody tr th {\n",
       "        vertical-align: top;\n",
       "    }\n",
       "\n",
       "    .dataframe thead th {\n",
       "        text-align: right;\n",
       "    }\n",
       "</style>\n",
       "<table border=\"1\" class=\"dataframe\">\n",
       "  <thead>\n",
       "    <tr style=\"text-align: right;\">\n",
       "      <th></th>\n",
       "    </tr>\n",
       "  </thead>\n",
       "  <tbody>\n",
       "  </tbody>\n",
       "</table>\n",
       "</div>"
      ],
      "text/plain": [
       "Empty DataFrame\n",
       "Columns: []\n",
       "Index: []"
      ]
     },
     "execution_count": 15,
     "metadata": {},
     "output_type": "execute_result"
    }
   ],
   "source": [
    "cff_authors_df"
   ]
  },
  {
   "cell_type": "code",
   "execution_count": 16,
   "metadata": {},
   "outputs": [
    {
     "data": {
      "text/html": [
       "<div>\n",
       "<style scoped>\n",
       "    .dataframe tbody tr th:only-of-type {\n",
       "        vertical-align: middle;\n",
       "    }\n",
       "\n",
       "    .dataframe tbody tr th {\n",
       "        vertical-align: top;\n",
       "    }\n",
       "\n",
       "    .dataframe thead th {\n",
       "        text-align: right;\n",
       "    }\n",
       "</style>\n",
       "<table border=\"1\" class=\"dataframe\">\n",
       "  <thead>\n",
       "    <tr style=\"text-align: right;\">\n",
       "      <th></th>\n",
       "    </tr>\n",
       "  </thead>\n",
       "  <tbody>\n",
       "  </tbody>\n",
       "</table>\n",
       "</div>"
      ],
      "text/plain": [
       "Empty DataFrame\n",
       "Columns: []\n",
       "Index: []"
      ]
     },
     "execution_count": 16,
     "metadata": {},
     "output_type": "execute_result"
    }
   ],
   "source": [
    "cff_df"
   ]
  },
  {
   "cell_type": "code",
   "execution_count": 17,
   "metadata": {},
   "outputs": [
    {
     "data": {
      "text/html": [
       "<div>\n",
       "<style scoped>\n",
       "    .dataframe tbody tr th:only-of-type {\n",
       "        vertical-align: middle;\n",
       "    }\n",
       "\n",
       "    .dataframe tbody tr th {\n",
       "        vertical-align: top;\n",
       "    }\n",
       "\n",
       "    .dataframe thead th {\n",
       "        text-align: right;\n",
       "    }\n",
       "</style>\n",
       "<table border=\"1\" class=\"dataframe\">\n",
       "  <thead>\n",
       "    <tr style=\"text-align: right;\">\n",
       "      <th></th>\n",
       "      <th>rank</th>\n",
       "      <th>insertions</th>\n",
       "      <th>deletions</th>\n",
       "      <th>lines_changed</th>\n",
       "      <th>files</th>\n",
       "      <th>commits</th>\n",
       "      <th>first_commit</th>\n",
       "      <th>last_commit</th>\n",
       "      <th>score</th>\n",
       "    </tr>\n",
       "  </thead>\n",
       "  <tbody>\n",
       "  </tbody>\n",
       "</table>\n",
       "</div>"
      ],
      "text/plain": [
       "Empty DataFrame\n",
       "Columns: [rank, insertions, deletions, lines_changed, files, commits, first_commit, last_commit, score]\n",
       "Index: []"
      ]
     },
     "execution_count": 17,
     "metadata": {},
     "output_type": "execute_result"
    }
   ],
   "source": [
    "result = functions.matching(cff_authors_df, git_contributors_df)\n",
    "result"
   ]
  },
  {
   "cell_type": "markdown",
   "metadata": {},
   "source": [
    "## Citation.bib"
   ]
  },
  {
   "cell_type": "code",
   "execution_count": 18,
   "metadata": {},
   "outputs": [],
   "source": [
    "bib_authors_df, bib_df = functions.get_bib_data(owner, repo)"
   ]
  },
  {
   "cell_type": "code",
   "execution_count": 19,
   "metadata": {},
   "outputs": [
    {
     "data": {
      "text/html": [
       "<div>\n",
       "<style scoped>\n",
       "    .dataframe tbody tr th:only-of-type {\n",
       "        vertical-align: middle;\n",
       "    }\n",
       "\n",
       "    .dataframe tbody tr th {\n",
       "        vertical-align: top;\n",
       "    }\n",
       "\n",
       "    .dataframe thead th {\n",
       "        text-align: right;\n",
       "    }\n",
       "</style>\n",
       "<table border=\"1\" class=\"dataframe\">\n",
       "  <thead>\n",
       "    <tr style=\"text-align: right;\">\n",
       "      <th></th>\n",
       "    </tr>\n",
       "  </thead>\n",
       "  <tbody>\n",
       "  </tbody>\n",
       "</table>\n",
       "</div>"
      ],
      "text/plain": [
       "Empty DataFrame\n",
       "Columns: []\n",
       "Index: []"
      ]
     },
     "execution_count": 19,
     "metadata": {},
     "output_type": "execute_result"
    }
   ],
   "source": [
    "bib_authors_df"
   ]
  },
  {
   "cell_type": "code",
   "execution_count": 20,
   "metadata": {},
   "outputs": [
    {
     "data": {
      "text/html": [
       "<div>\n",
       "<style scoped>\n",
       "    .dataframe tbody tr th:only-of-type {\n",
       "        vertical-align: middle;\n",
       "    }\n",
       "\n",
       "    .dataframe tbody tr th {\n",
       "        vertical-align: top;\n",
       "    }\n",
       "\n",
       "    .dataframe thead th {\n",
       "        text-align: right;\n",
       "    }\n",
       "</style>\n",
       "<table border=\"1\" class=\"dataframe\">\n",
       "  <thead>\n",
       "    <tr style=\"text-align: right;\">\n",
       "      <th></th>\n",
       "    </tr>\n",
       "  </thead>\n",
       "  <tbody>\n",
       "  </tbody>\n",
       "</table>\n",
       "</div>"
      ],
      "text/plain": [
       "Empty DataFrame\n",
       "Columns: []\n",
       "Index: []"
      ]
     },
     "execution_count": 20,
     "metadata": {},
     "output_type": "execute_result"
    }
   ],
   "source": [
    "bib_df"
   ]
  },
  {
   "cell_type": "code",
   "execution_count": 21,
   "metadata": {},
   "outputs": [
    {
     "data": {
      "text/html": [
       "<div>\n",
       "<style scoped>\n",
       "    .dataframe tbody tr th:only-of-type {\n",
       "        vertical-align: middle;\n",
       "    }\n",
       "\n",
       "    .dataframe tbody tr th {\n",
       "        vertical-align: top;\n",
       "    }\n",
       "\n",
       "    .dataframe thead th {\n",
       "        text-align: right;\n",
       "    }\n",
       "</style>\n",
       "<table border=\"1\" class=\"dataframe\">\n",
       "  <thead>\n",
       "    <tr style=\"text-align: right;\">\n",
       "      <th></th>\n",
       "      <th>rank</th>\n",
       "      <th>insertions</th>\n",
       "      <th>deletions</th>\n",
       "      <th>lines_changed</th>\n",
       "      <th>files</th>\n",
       "      <th>commits</th>\n",
       "      <th>first_commit</th>\n",
       "      <th>last_commit</th>\n",
       "      <th>score</th>\n",
       "    </tr>\n",
       "  </thead>\n",
       "  <tbody>\n",
       "  </tbody>\n",
       "</table>\n",
       "</div>"
      ],
      "text/plain": [
       "Empty DataFrame\n",
       "Columns: [rank, insertions, deletions, lines_changed, files, commits, first_commit, last_commit, score]\n",
       "Index: []"
      ]
     },
     "execution_count": 21,
     "metadata": {},
     "output_type": "execute_result"
    }
   ],
   "source": [
    "result = functions.matching(bib_authors_df, git_contributors_df)\n",
    "result"
   ]
  },
  {
   "cell_type": "markdown",
   "metadata": {},
   "source": [
    "## Description"
   ]
  },
  {
   "cell_type": "code",
   "execution_count": 22,
   "metadata": {},
   "outputs": [
    {
     "data": {
      "text/html": [
       "<div>\n",
       "<style scoped>\n",
       "    .dataframe tbody tr th:only-of-type {\n",
       "        vertical-align: middle;\n",
       "    }\n",
       "\n",
       "    .dataframe tbody tr th {\n",
       "        vertical-align: top;\n",
       "    }\n",
       "\n",
       "    .dataframe thead th {\n",
       "        text-align: right;\n",
       "    }\n",
       "</style>\n",
       "<table border=\"1\" class=\"dataframe\">\n",
       "  <thead>\n",
       "    <tr style=\"text-align: right;\">\n",
       "      <th></th>\n",
       "      <th>name</th>\n",
       "    </tr>\n",
       "  </thead>\n",
       "  <tbody>\n",
       "  </tbody>\n",
       "</table>\n",
       "</div>"
      ],
      "text/plain": [
       "Empty DataFrame\n",
       "Columns: [name]\n",
       "Index: []"
      ]
     },
     "execution_count": 22,
     "metadata": {},
     "output_type": "execute_result"
    }
   ],
   "source": [
    "description = cran_data['Description']\n",
    "description_df = functions.get_description_authors(description)\n",
    "description_df"
   ]
  },
  {
   "cell_type": "code",
   "execution_count": 23,
   "metadata": {},
   "outputs": [
    {
     "data": {
      "text/html": [
       "<div>\n",
       "<style scoped>\n",
       "    .dataframe tbody tr th:only-of-type {\n",
       "        vertical-align: middle;\n",
       "    }\n",
       "\n",
       "    .dataframe tbody tr th {\n",
       "        vertical-align: top;\n",
       "    }\n",
       "\n",
       "    .dataframe thead th {\n",
       "        text-align: right;\n",
       "    }\n",
       "</style>\n",
       "<table border=\"1\" class=\"dataframe\">\n",
       "  <thead>\n",
       "    <tr style=\"text-align: right;\">\n",
       "      <th></th>\n",
       "      <th>name</th>\n",
       "      <th>rank</th>\n",
       "      <th>insertions</th>\n",
       "      <th>deletions</th>\n",
       "      <th>lines_changed</th>\n",
       "      <th>files</th>\n",
       "      <th>commits</th>\n",
       "      <th>first_commit</th>\n",
       "      <th>last_commit</th>\n",
       "      <th>score</th>\n",
       "    </tr>\n",
       "  </thead>\n",
       "  <tbody>\n",
       "  </tbody>\n",
       "</table>\n",
       "</div>"
      ],
      "text/plain": [
       "Empty DataFrame\n",
       "Columns: [name, rank, insertions, deletions, lines_changed, files, commits, first_commit, last_commit, score]\n",
       "Index: []"
      ]
     },
     "execution_count": 23,
     "metadata": {},
     "output_type": "execute_result"
    }
   ],
   "source": [
    "result = functions.matching(description_df, git_contributors_df)\n",
    "result"
   ]
  },
  {
   "cell_type": "markdown",
   "metadata": {},
   "source": [
    "## README.md"
   ]
  },
  {
   "cell_type": "code",
   "execution_count": 24,
   "metadata": {},
   "outputs": [
    {
     "data": {
      "text/html": [
       "<div>\n",
       "<style scoped>\n",
       "    .dataframe tbody tr th:only-of-type {\n",
       "        vertical-align: middle;\n",
       "    }\n",
       "\n",
       "    .dataframe tbody tr th {\n",
       "        vertical-align: top;\n",
       "    }\n",
       "\n",
       "    .dataframe thead th {\n",
       "        text-align: right;\n",
       "    }\n",
       "</style>\n",
       "<table border=\"1\" class=\"dataframe\">\n",
       "  <thead>\n",
       "    <tr style=\"text-align: right;\">\n",
       "      <th></th>\n",
       "      <th>name</th>\n",
       "    </tr>\n",
       "  </thead>\n",
       "  <tbody>\n",
       "    <tr>\n",
       "      <th>0</th>\n",
       "      <td>Kara Woo</td>\n",
       "    </tr>\n",
       "    <tr>\n",
       "      <th>1</th>\n",
       "      <td>Thomas Lin Pedersen</td>\n",
       "    </tr>\n",
       "    <tr>\n",
       "      <th>2</th>\n",
       "      <td>Winston Chang</td>\n",
       "    </tr>\n",
       "  </tbody>\n",
       "</table>\n",
       "</div>"
      ],
      "text/plain": [
       "                  name\n",
       "0             Kara Woo\n",
       "1  Thomas Lin Pedersen\n",
       "2        Winston Chang"
      ]
     },
     "execution_count": 24,
     "metadata": {},
     "output_type": "execute_result"
    }
   ],
   "source": [
    "readme_df = functions.get_readme_authors(owner, repo)\n",
    "readme_df"
   ]
  },
  {
   "cell_type": "code",
   "execution_count": 25,
   "metadata": {},
   "outputs": [
    {
     "data": {
      "text/html": [
       "<div>\n",
       "<style scoped>\n",
       "    .dataframe tbody tr th:only-of-type {\n",
       "        vertical-align: middle;\n",
       "    }\n",
       "\n",
       "    .dataframe tbody tr th {\n",
       "        vertical-align: top;\n",
       "    }\n",
       "\n",
       "    .dataframe thead th {\n",
       "        text-align: right;\n",
       "    }\n",
       "</style>\n",
       "<table border=\"1\" class=\"dataframe\">\n",
       "  <thead>\n",
       "    <tr style=\"text-align: right;\">\n",
       "      <th></th>\n",
       "      <th>name</th>\n",
       "      <th>rank</th>\n",
       "      <th>insertions</th>\n",
       "      <th>deletions</th>\n",
       "      <th>lines_changed</th>\n",
       "      <th>files</th>\n",
       "      <th>commits</th>\n",
       "      <th>first_commit</th>\n",
       "      <th>last_commit</th>\n",
       "      <th>score</th>\n",
       "    </tr>\n",
       "  </thead>\n",
       "  <tbody>\n",
       "    <tr>\n",
       "      <th>2</th>\n",
       "      <td>Winston Chang</td>\n",
       "      <td>2</td>\n",
       "      <td>31473</td>\n",
       "      <td>33787</td>\n",
       "      <td>65260</td>\n",
       "      <td>2869</td>\n",
       "      <td>589</td>\n",
       "      <td>2011-12-07 04:36:49-06:00</td>\n",
       "      <td>2018-07-26 18:12:17-04:00</td>\n",
       "      <td>1.0</td>\n",
       "    </tr>\n",
       "    <tr>\n",
       "      <th>1</th>\n",
       "      <td>Thomas Lin Pedersen</td>\n",
       "      <td>4</td>\n",
       "      <td>130191</td>\n",
       "      <td>125631</td>\n",
       "      <td>255822</td>\n",
       "      <td>2507</td>\n",
       "      <td>314</td>\n",
       "      <td>2016-01-28 15:40:35+01:00</td>\n",
       "      <td>2024-04-23 12:21:56+02:00</td>\n",
       "      <td>1.0</td>\n",
       "    </tr>\n",
       "    <tr>\n",
       "      <th>0</th>\n",
       "      <td>Kara Woo</td>\n",
       "      <td>11</td>\n",
       "      <td>11794</td>\n",
       "      <td>8453</td>\n",
       "      <td>20247</td>\n",
       "      <td>577</td>\n",
       "      <td>44</td>\n",
       "      <td>2017-06-01 09:09:18-07:00</td>\n",
       "      <td>2020-10-27 20:39:55-07:00</td>\n",
       "      <td>1.0</td>\n",
       "    </tr>\n",
       "  </tbody>\n",
       "</table>\n",
       "</div>"
      ],
      "text/plain": [
       "                  name  rank  insertions  deletions  lines_changed  files  \\\n",
       "2        Winston Chang     2       31473      33787          65260   2869   \n",
       "1  Thomas Lin Pedersen     4      130191     125631         255822   2507   \n",
       "0             Kara Woo    11       11794       8453          20247    577   \n",
       "\n",
       "   commits               first_commit                last_commit  score  \n",
       "2      589  2011-12-07 04:36:49-06:00  2018-07-26 18:12:17-04:00    1.0  \n",
       "1      314  2016-01-28 15:40:35+01:00  2024-04-23 12:21:56+02:00    1.0  \n",
       "0       44  2017-06-01 09:09:18-07:00  2020-10-27 20:39:55-07:00    1.0  "
      ]
     },
     "execution_count": 25,
     "metadata": {},
     "output_type": "execute_result"
    }
   ],
   "source": [
    "result = functions.matching(readme_df, git_contributors_df)\n",
    "result"
   ]
  }
 ],
 "metadata": {
  "kernelspec": {
   "display_name": ".venv",
   "language": "python",
   "name": "python3"
  },
  "language_info": {
   "codemirror_mode": {
    "name": "ipython",
    "version": 3
   },
   "file_extension": ".py",
   "mimetype": "text/x-python",
   "name": "python",
   "nbconvert_exporter": "python",
   "pygments_lexer": "ipython3",
   "version": "3.10.12"
  }
 },
 "nbformat": 4,
 "nbformat_minor": 2
}
